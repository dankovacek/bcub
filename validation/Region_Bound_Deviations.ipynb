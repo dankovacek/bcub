{
 "cells": [
  {
   "cell_type": "code",
   "execution_count": null,
   "id": "4fa25e19-a2a6-413f-9c3c-f933f8134152",
   "metadata": {},
   "outputs": [],
   "source": [
    "import os\n",
    "\n",
    "import pandas as pd\n",
    "import geopandas as gpd\n",
    "import numpy as np\n",
    "\n",
    "import psycopg2\n",
    "from bokeh.plotting import figure, show\n",
    "from bokeh.io import output_notebook\n",
    "from bokeh.models import ColumnDataSource\n",
    "from bokeh.models import GeoJSONDataSource\n",
    "from bokeh.models.tools import LassoSelectTool, BoxSelectTool\n",
    "import xyzservices.providers as xyz\n",
    "from bokeh.palettes import Bokeh8\n",
    "\n",
    "from bokeh.models import ColumnDataSource, GMapOptions\n",
    "from bokeh.layouts import column, row\n"
   ]
  },
  {
   "cell_type": "code",
   "execution_count": null,
   "id": "fe0f9dd5-39b3-4368-ade2-72568c90ddae",
   "metadata": {},
   "outputs": [],
   "source": [
    "\n",
    "import xyzservices.providers as xyz\n",
    "# 'USImagery', 'USImageryTopo', 'USTopo'\n",
    "tiles = xyz['USGS']['USTopo']"
   ]
  },
  {
   "cell_type": "code",
   "execution_count": null,
   "id": "d14c65ab-8be6-430f-944f-b1ab9d1e070f",
   "metadata": {},
   "outputs": [],
   "source": [
    "BASE_DIR = os.path.dirname(os.getcwd())\n",
    "DATA_DIR = os.path.join(BASE_DIR, 'validation/data/')\n",
    "DATA_DIR"
   ]
  },
  {
   "cell_type": "code",
   "execution_count": null,
   "id": "7b17578a-e5d6-4065-acbe-07acff80f0a5",
   "metadata": {},
   "outputs": [],
   "source": [
    "def get_catchment_polygons(region):\n",
    "    file_dir = os.path.join(BASE_DIR, f'processed_data/derived_basins/{region}/')\n",
    "    fpath = os.path.join(file_dir, f'{region}_basins_R0.parquet')\n",
    "    df = gpd.read_parquet(fpath)\n",
    "    df.set_geometry('basin_geometry', inplace=True)\n",
    "    return df\n",
    "    \n",
    "\n",
    "def get_boundary_deviations(region):\n",
    "    deviations_path = f'{region}_bounds_deviations_test.geojson'\n",
    "    deviations = gpd.read_file(os.path.join(DATA_DIR, deviations_path))\n",
    "    deviations = deviations[['geometry']].dissolve().explode(index_parts=False)\n",
    "    return deviations"
   ]
  },
  {
   "cell_type": "code",
   "execution_count": null,
   "id": "924b0256-6646-4f64-b8ee-a5fdda6728a5",
   "metadata": {},
   "outputs": [],
   "source": [
    "rc = 'FRA'\n",
    "deviation_df = get_boundary_deviations(rc)\n",
    "ws_df = get_catchment_polygons(rc)"
   ]
  },
  {
   "cell_type": "code",
   "execution_count": null,
   "id": "16963848-cdc9-478f-a8a3-45b55b76ec09",
   "metadata": {},
   "outputs": [],
   "source": [
    "print(f'There are {len(ws_df)} catchment polygons in the dataset')\n",
    "assert deviation_df.crs == ws_df.crs"
   ]
  },
  {
   "cell_type": "code",
   "execution_count": null,
   "id": "fcac356f-0808-4334-be45-c872748491a1",
   "metadata": {},
   "outputs": [],
   "source": [
    "deviation_df = deviation_df[deviation_df.is_valid]\n",
    "ws_df = ws_df[ws_df.is_valid]"
   ]
  },
  {
   "cell_type": "code",
   "execution_count": null,
   "id": "c24cb476-d64f-4d0a-b5db-e66d250149b5",
   "metadata": {},
   "outputs": [],
   "source": [
    "ws_df.reset_index(inplace=True, drop=True)\n",
    "deviation_df.reset_index(inplace=True, drop=True)"
   ]
  },
  {
   "cell_type": "code",
   "execution_count": null,
   "id": "dc320b89-84a5-4f01-b18a-8e72fc9a416d",
   "metadata": {},
   "outputs": [],
   "source": [
    "# get the catchments that touch any of the deviation geometries\n",
    "# intersecting = ws_df.sjoin(deviation_df, how='inner', predicate='touches')"
   ]
  },
  {
   "cell_type": "code",
   "execution_count": null,
   "id": "1c4f735d-fad8-428c-bbef-0f5085173e92",
   "metadata": {},
   "outputs": [],
   "source": [
    "cols = ['ID', 'drainage_area_km2', 'ppt_lon_m_3005', 'ppt_lat_m_3005',\n",
    "       'ppt_acc', 'Perimeter_km', 'id', 'Elevation_m', 'Aspect_deg',\n",
    "       'Slope_deg', 'region_code', 'geometry', 'basin_geometry',\n",
    "       'centroid_geometry', 'index_right']\n",
    "# intersecting.drop_duplicates(subset=['ID'], keep='first', inplace=True)\n",
    "# intersecting.head()\n",
    "# intersecting.columns"
   ]
  },
  {
   "cell_type": "code",
   "execution_count": null,
   "id": "f970d5df-def8-4bea-8d56-a0ce50a00ad9",
   "metadata": {},
   "outputs": [],
   "source": [
    "# intersecting.to_file('08A_test.geojson')"
   ]
  },
  {
   "cell_type": "code",
   "execution_count": null,
   "id": "afd92022-e1a3-4e1b-8918-b293c29b77f9",
   "metadata": {},
   "outputs": [],
   "source": [
    "query = \"\"\"\n",
    "SELECT \n",
    "    id, \n",
    "    drainage_area_km2, \n",
    "    inside_pct_area_FLAG, \n",
    "    outside_pct_area_FLAG, \n",
    "    region_code, \n",
    "    pour_pt\n",
    "FROM \n",
    "    basins_schema.basin_attributes\n",
    "WHERE \n",
    "    geometry_flag = TRUE;\n",
    "\"\"\"\n"
   ]
  },
  {
   "cell_type": "code",
   "execution_count": null,
   "id": "c3b68dee-c690-4e38-9e0e-ef37be187170",
   "metadata": {},
   "outputs": [],
   "source": [
    "conn = psycopg2.connect(\n",
    "    dbname=\"basins\",\n",
    "    user=\"postgres\",\n",
    "    password=\"pgpass\",\n",
    "    host=\"localhost\",\n",
    "    port=\"5432\"\n",
    ")\n",
    "gdf = gpd.read_postgis(query, conn, geom_col='pour_pt')\n",
    "conn.close()"
   ]
  },
  {
   "cell_type": "code",
   "execution_count": null,
   "id": "f5aa0b00-9dde-45e9-9c8c-7beb67cc5199",
   "metadata": {},
   "outputs": [],
   "source": [
    "def plot_log_line(c, k=1, x_range=(1, 1.25e3), y_range=(5, 1e4)):\n",
    "    x = np.linspace(x_range[0], x_range[1], 100)\n",
    "    # y = y_range[1] * (x / x_range[0])**(-1) * c \n",
    "    y =  k * (x / x_range[0])**(c)\n",
    "    return x, y"
   ]
  },
  {
   "cell_type": "code",
   "execution_count": null,
   "id": "289626cc-006e-4b8f-88af-102d4e9b1322",
   "metadata": {},
   "outputs": [],
   "source": [
    "gdf['total_pct_area_flag'] = gdf['inside_pct_area_flag'] + gdf['outside_pct_area_flag']\n",
    "gdf['area_uncertainty'] = gdf['total_pct_area_flag']#gdf['drainage_area_km2'] * (gdf['total_pct_area_flag'] / 100)\n",
    "\n",
    "# Spatial Plot with Map Tiles\n",
    "# Convert to Web Mercator for tile source\n",
    "gdf = gdf.to_crs(epsg=3857)\n",
    "gdf['x'] = gdf.geometry.x\n",
    "gdf['y'] = gdf.geometry.y"
   ]
  },
  {
   "cell_type": "code",
   "execution_count": null,
   "id": "0b4ea5af-51a8-49aa-9ea5-ff6280911a42",
   "metadata": {},
   "outputs": [],
   "source": [
    "# Enable output to notebook\n",
    "output_notebook()\n",
    "\n",
    "# Create a ColumnDataSource\n",
    "source = ColumnDataSource(gdf[['total_pct_area_flag', 'drainage_area_km2', 'area_uncertainty', 'x', 'y']].copy())\n",
    "\n",
    "# Create a figure\n",
    "plot = figure(title=f'Drainage Area vs Uncertain Area Flag (n={len(gdf)})',\n",
    "              x_axis_label=r'$$\\text{Drainage Area } [km^2 ]$$',\n",
    "              y_axis_label=r'$$\\text{Uncertain Area } [\\%] $$', y_axis_type='log', x_axis_type='log')\n",
    "# Add Lasso Select Tool\n",
    "plot.add_tools(LassoSelectTool(), BoxSelectTool())\n",
    "# cs = [0.65, 0.45, 0.3]\n",
    "cono = 0\n",
    "# for c in cs:\n",
    "c = 1\n",
    "color = Bokeh8[cono]\n",
    "# cono += 1\n",
    "x0, y0 = plot_log_line(c, k=0.1)\n",
    "plot.line(x0, y0, line_dash='dashed', line_width=2, line_color=color, legend_label=f'{c}')\n",
    "# Add a scatter renderer with circle markers\n",
    "# plot.circle(x='drainage_area_km2', y='area_uncertainty', source=source, size=4, color=\"navy\", alpha=0.5)\n",
    "plot.scatter(x='drainage_area_km2', y='area_uncertainty', source=source, size=4, \n",
    "             selection_color=\"orange\", nonselection_alpha=0.1, selection_alpha=1,\n",
    "             nonselection_color='gray', color=\"navy\", alpha=0.5)\n"
   ]
  },
  {
   "cell_type": "code",
   "execution_count": null,
   "id": "473302df-94f0-4b19-91ef-b159eb1e00f0",
   "metadata": {},
   "outputs": [],
   "source": [
    "spatial_plot = figure(title='Point Locations', x_axis_type=\"mercator\", y_axis_type=\"mercator\",\n",
    "                      x_axis_label='Longitude', y_axis_label='Latitude')\n",
    "\n",
    "# dir(xyz)\n",
    "spatial_plot.add_tile(tiles)\n",
    "spatial_plot.scatter(x='x', y='y', source=source, size=4, color=\"navy\", alpha=0.5, selection_alpha=1,\n",
    "                     selection_color=\"orange\", nonselection_alpha=0.9, nonselection_color='grey')\n",
    "spatial_plot.add_tools(LassoSelectTool(), BoxSelectTool())\n",
    "spatial_plot.xaxis.axis_label = r'$$\\text{Area} [\\text{km}^2$$'\n",
    "spatial_plot.yaxis.axis_label = r'$$P(x)$$'\n",
    "spatial_plot.xaxis.axis_label_text_font_size = '13px'\n",
    "spatial_plot.yaxis.axis_label_text_font_size = '13px'\n",
    "spatial_plot.xgrid.visible = False\n",
    "spatial_plot.ygrid.visible = False"
   ]
  },
  {
   "cell_type": "code",
   "execution_count": null,
   "id": "c681d171-e631-4237-b25a-ccb30146edab",
   "metadata": {},
   "outputs": [],
   "source": [
    "# Show the plot\n",
    "layout = row(plot, spatial_plot)\n",
    "show(layout)"
   ]
  },
  {
   "cell_type": "code",
   "execution_count": null,
   "id": "ab192ac8-149a-4611-b5e3-c99dcc81aa2b",
   "metadata": {},
   "outputs": [],
   "source": []
  }
 ],
 "metadata": {
  "kernelspec": {
   "display_name": "Python 3 (ipykernel)",
   "language": "python",
   "name": "python3"
  },
  "language_info": {
   "codemirror_mode": {
    "name": "ipython",
    "version": 3
   },
   "file_extension": ".py",
   "mimetype": "text/x-python",
   "name": "python",
   "nbconvert_exporter": "python",
   "pygments_lexer": "ipython3",
   "version": "3.10.12"
  }
 },
 "nbformat": 4,
 "nbformat_minor": 5
}
