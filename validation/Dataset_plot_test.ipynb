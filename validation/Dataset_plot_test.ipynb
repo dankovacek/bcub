{
 "cells": [
  {
   "cell_type": "markdown",
   "id": "f1070333-76d3-4942-81a6-a7d2777f4f5b",
   "metadata": {},
   "source": [
    "# Dataset Flex\n",
    "\n",
    "Create plots using the BCUB dataset.\n",
    "\n",
    "First, we'll showcase the land cover sets by filtering the Vancouver Island basins for a non-overlapping set of basins in the order of $\\sim 10 \\text{km}^2$, and we'll plot a heat map to show the greatest change in forest cover.  We'll use the parquet format to demonstrate the benefit of having multiple geometry support.\n",
    "\n",
    "In the `.parquet` file, there are three geometry columns:\n",
    "\n",
    "* **pour point**: \"centroid_geometry\"\n",
    "* **basin polygon**: \"basin_geometry\"\n",
    "* **basin centroid**: \"geometry\"\n",
    "\n",
    "When importing with GeoPandas, we must specify the active geometry column, and we can switch between active columns by using the `set_geometry()` attribute function.  Neat!"
   ]
  },
  {
   "cell_type": "code",
   "execution_count": null,
   "id": "8e416d30-dde5-4111-98bc-8699d8a4af17",
   "metadata": {},
   "outputs": [],
   "source": [
    "import os\n",
    "import pandas as pd\n",
    "import geopandas as gpd\n",
    "import geoviews as gv\n",
    "# import geoviews.feature as gf\n",
    "gv.extension('bokeh')"
   ]
  },
  {
   "cell_type": "code",
   "execution_count": null,
   "id": "1dd41969-f827-48e9-bffc-444a17eff557",
   "metadata": {},
   "outputs": [],
   "source": [
    "BASE_DIR = os.path.dirname(os.getcwd())\n",
    "BASIN_DIR = os.path.join(BASE_DIR, 'processed_data/BCUB_files/basin_polygons/')"
   ]
  },
  {
   "cell_type": "code",
   "execution_count": null,
   "id": "8d827067-f6bb-4c25-abd1-98ca199fb34a",
   "metadata": {},
   "outputs": [],
   "source": [
    "region_code = 'VCI'\n",
    "# foo = '/home/danbot2/code_5820/large_sample_hydrology/bcub/processed_data/basin_attributes/polygons'\n",
    "df = gpd.read_parquet(os.path.join(BASIN_DIR, f'{region_code}_basins.parquet'))\n",
    "# df = gpd.read_parquet(os.path.join(foo, f'{region_code}_basin_geometries.parquet'))\n",
    "print(f'There are {len(df)} basins in the {region_code} parquet file.  The active geometry column at import is \"geometry\" (basin centroid)')\n",
    "# reset the active geometry column to the basin polygon\n",
    "# df = df.set_geometry('basin_geometry')\n",
    "# we need to reproject to EPSG 3857 for plotting\n",
    "df = df.to_crs(4326)\n",
    "df.head()"
   ]
  },
  {
   "cell_type": "code",
   "execution_count": null,
   "id": "46197cb0-04c9-495d-99d0-a4040f25bb59",
   "metadata": {},
   "outputs": [],
   "source": [
    "# import the basin attributes for VCI\n",
    "attribute_path = os.path.join(BASE_DIR, 'processed_data/basin_attributes/', 'BCUB_attributes_20240117.csv')\n",
    "print(attribute_path)\n",
    "attributes = pd.read_csv(attribute_path)"
   ]
  },
  {
   "cell_type": "code",
   "execution_count": null,
   "id": "eefa9124-b0fe-4c7d-89d9-264dca06ac21",
   "metadata": {},
   "outputs": [],
   "source": [
    "total_basins = 0\n",
    "region_codes = list(set(attributes['region_code']))\n",
    "n = 0\n",
    "for rc in region_codes:\n",
    "    n += 1\n",
    "    region_attrs = attributes[attributes['region_code'] == rc].copy()\n",
    "    nan_rows = region_attrs[region_attrs.isna().any(axis=1)].copy()\n",
    "    total_basins += len(region_attrs)\n",
    "    print(f'{n}. {rc} has attributes describing {len(region_attrs)} basins, with {len(nan_rows)} rows having missing values.')\n",
    "print(f'{total_basins} basins in total.')"
   ]
  },
  {
   "cell_type": "code",
   "execution_count": null,
   "id": "deb6f623-3a24-4a81-a95d-ca49daee6025",
   "metadata": {},
   "outputs": [],
   "source": [
    "# filter for region_code == 'VCI'\n",
    "attributes = attributes[attributes['region_code'] == region_code]\n",
    "attributes.columns"
   ]
  },
  {
   "cell_type": "code",
   "execution_count": null,
   "id": "b77dcbc6-7967-4777-a46b-ca15f3e16a80",
   "metadata": {},
   "outputs": [],
   "source": [
    "attributes['forest_change_2010_to_2020'] = attributes['land_use_forest_frac_2020'] - attributes['land_use_forest_frac_2010']\n",
    "# attributes.head()"
   ]
  },
  {
   "cell_type": "code",
   "execution_count": null,
   "id": "b9788f5a-60d7-4f8d-911c-17e9af072450",
   "metadata": {},
   "outputs": [],
   "source": [
    "attributes[['ppt_lat_m_3005', 'ppt_lon_m_3005']] = attributes[['ppt_lat_m_3005', 'ppt_lon_m_3005']].round(0)\n",
    "attributes.sort_values(['ppt_lon_m_3005', 'ppt_lat_m_3005'], inplace=True)\n",
    "attributes.tail()"
   ]
  },
  {
   "cell_type": "code",
   "execution_count": null,
   "id": "ffa0bcb3-8ea5-4667-8912-3d9bee705c7c",
   "metadata": {},
   "outputs": [],
   "source": [
    "max_area, min_area = 5, 2\n",
    "label = 'forest_change_2010_to_2020'\n",
    "label = 'low_prcp_duration'\n",
    "filtered_basins = df[(df['area'] <= max_area) & (df['area'] > min_area)].copy()\n",
    "filtered_basins[['ppt_lat_m_3005', 'ppt_lon_m_3005']] = filtered_basins[['ppt_lat_m_3005', 'ppt_lon_m_3005']].round(0)\n",
    "for i, row in filtered_basins.iterrows():\n",
    "    match = attributes[(attributes['ppt_lon_m_3005'] == row['ppt_lon_m_3005']) & (attributes['ppt_lat_m_3005'] == row['ppt_lat_m_3005'])].copy()\n",
    "    if len(match) == 1:\n",
    "        filtered_basins.loc[i, label] = match[label].values[0]\n",
    "    else:\n",
    "        print('no match found')\n"
   ]
  },
  {
   "cell_type": "code",
   "execution_count": null,
   "id": "22aa7a09-d540-414b-a2ff-8e547475e72e",
   "metadata": {},
   "outputs": [],
   "source": [
    "# attributes = attributes[(attributes['drainage_area_km2'] <= max_area) & (attributes['drainage_area_km2'] > min_area)].copy()\n",
    "filtered_basins.head()\n",
    "filtered_basins.set_geometry('basin_geometry', inplace=True)\n",
    "filtered_basins = filtered_basins.to_crs(4326)"
   ]
  },
  {
   "cell_type": "code",
   "execution_count": null,
   "id": "f68fdb74-3951-439a-ba9d-0927de4bbbb0",
   "metadata": {},
   "outputs": [],
   "source": [
    "# filtered_polygons = df.iloc[filtered_ids, :].copy()\n",
    "# filtered_polygons.head()"
   ]
  },
  {
   "cell_type": "code",
   "execution_count": null,
   "id": "680d8782-cbad-4951-913c-35a7ebcffbfc",
   "metadata": {},
   "outputs": [],
   "source": [
    "print(filtered_basins[[label]].max(), filtered_basins[[label]].min())"
   ]
  },
  {
   "cell_type": "code",
   "execution_count": null,
   "id": "0e5f2c11-0578-4159-b4c6-127cfae1a746",
   "metadata": {},
   "outputs": [],
   "source": [
    "polygons_element = gv.Polygons(filtered_basins).opts(color=label, cmap='RdYlGn', \n",
    "                                                     line_color=None, colorbar=True, clabel='Low precipitation duration [days]',\n",
    "                                                    )\n",
    "plot = gv.tile_sources.CartoLight() * polygons_element\n",
    "plot.opts(width=800, height=600)\n"
   ]
  },
  {
   "cell_type": "code",
   "execution_count": null,
   "id": "3fec88e8-9273-419d-ba94-09f7b8772148",
   "metadata": {},
   "outputs": [],
   "source": []
  },
  {
   "cell_type": "code",
   "execution_count": null,
   "id": "7fe102fb-1ea1-4416-a333-6e93e75d9dee",
   "metadata": {},
   "outputs": [],
   "source": []
  }
 ],
 "metadata": {
  "kernelspec": {
   "display_name": "Python 3 (ipykernel)",
   "language": "python",
   "name": "python3"
  },
  "language_info": {
   "codemirror_mode": {
    "name": "ipython",
    "version": 3
   },
   "file_extension": ".py",
   "mimetype": "text/x-python",
   "name": "python",
   "nbconvert_exporter": "python",
   "pygments_lexer": "ipython3",
   "version": "3.10.12"
  }
 },
 "nbformat": 4,
 "nbformat_minor": 5
}
