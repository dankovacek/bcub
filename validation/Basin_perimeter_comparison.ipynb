{
 "cells": [
  {
   "cell_type": "code",
   "execution_count": 1,
   "id": "add78ffa-f525-4fd5-830d-e122f43eaee6",
   "metadata": {},
   "outputs": [],
   "source": [
    "import os\n",
    "\n",
    "import geopandas as gpd\n",
    "import pandas as pd\n",
    "import numpy as np\n",
    "\n",
    "from shapely.wkb import loads"
   ]
  },
  {
   "cell_type": "markdown",
   "id": "7218e3a5-73e2-48ba-aa54-70f14c246b6f",
   "metadata": {},
   "source": [
    "Compare perimeter qualities from three different sources:\n",
    "\n",
    "1. HYSETS (source is WSC and USGS, derived from EarthEnv DEM90 where unavailable from official resources, or approximated as as a square centred at the officially reported station location with area equal to the reported area.\n",
    "2. **Updated WSC** Water Survey of Canada (WSC) updated over 8000 basin polygons in July 2022.  These can be downloaded [here](https://collaboration.cmc.ec.gc.ca/cmc/hydrometrics/www/HydrometricNetworkBasinPolygons/).\n",
    "3. **BCUB**: the BCUB polygons were filtered for the best match, where a match is measured by the polygon overlap accuracy.  Accuracy is % intersected area divided by reported station drainage area."
   ]
  },
  {
   "cell_type": "code",
   "execution_count": 2,
   "id": "45cc93fa-8005-4843-a11b-626b429a4683",
   "metadata": {},
   "outputs": [],
   "source": [
    "BASE_DIR = os.path.dirname(os.getcwd())\n",
    "DATA_DIR = os.path.join(BASE_DIR, 'input_data/')"
   ]
  },
  {
   "cell_type": "code",
   "execution_count": 3,
   "id": "47ae18b6-6f09-4115-a298-198a4fd417c1",
   "metadata": {},
   "outputs": [],
   "source": [
    "# specify the path where updated (2022-07-21) WSC basin polygons are saved\n",
    "# https://collaboration.cmc.ec.gc.ca/cmc/hydrometrics/www/HydrometricNetworkBasinPolygons/\n",
    "wsc_geom_folder = os.path.join(DATA_DIR, 'WSC_basins/07/07FD001/')\n",
    "wsc_geom_folder = '/home/danbot2/code_5820/large_sample_hydrology/common_data/WSC_data/WSC_basin_polygons/'"
   ]
  },
  {
   "cell_type": "code",
   "execution_count": 4,
   "id": "50b79140-031a-48c3-b184-2822171a3360",
   "metadata": {},
   "outputs": [],
   "source": [
    "example_stn = '07FD001'\n",
    "fpath = f'{example_stn}/DrainageBasin/{example_stn}_DrainageBasin_BassinDeDrainage.shp'\n",
    "latest_wsc_basin = gpd.read_file(wsc_geom_folder + fpath)\n",
    "latest_wsc_basin = latest_wsc_basin.to_crs(3005)\n",
    "latest_wsc_basin.to_file('data/07FD001_WSC_updated.geojson')"
   ]
  },
  {
   "cell_type": "code",
   "execution_count": 5,
   "id": "eb96f0b4-bc86-4846-8469-886a6c8fb775",
   "metadata": {},
   "outputs": [],
   "source": [
    "# retrieve the station (pour point) location coordinates\n",
    "wsc_pour_point_fpath = f'{example_stn}/PourPoint/{example_stn}_PourPoint_PointExutoire.shp'\n",
    "latest_wsc_ppt = gpd.read_file(wsc_geom_folder + wsc_pour_point_fpath, engine='pyogrio', use_arrow=True)\n",
    "latest_wsc_ppt = latest_wsc_ppt.to_crs(3005)\n",
    "latest_wsc_ppt.to_file('data/07FD001_pour_point.geojson')"
   ]
  },
  {
   "cell_type": "code",
   "execution_count": 6,
   "id": "ed86ebe9-23bb-4c0e-bb99-31587c18484c",
   "metadata": {
    "tags": []
   },
   "outputs": [
    {
     "data": {
      "text/html": [
       "<div>\n",
       "<style scoped>\n",
       "    .dataframe tbody tr th:only-of-type {\n",
       "        vertical-align: middle;\n",
       "    }\n",
       "\n",
       "    .dataframe tbody tr th {\n",
       "        vertical-align: top;\n",
       "    }\n",
       "\n",
       "    .dataframe thead th {\n",
       "        text-align: right;\n",
       "    }\n",
       "</style>\n",
       "<table border=\"1\" class=\"dataframe\">\n",
       "  <thead>\n",
       "    <tr style=\"text-align: right;\">\n",
       "      <th></th>\n",
       "      <th>features</th>\n",
       "      <th>Name</th>\n",
       "      <th>OfficialID</th>\n",
       "      <th>FlagPAVICS</th>\n",
       "      <th>Source</th>\n",
       "      <th>Area</th>\n",
       "      <th>geometry</th>\n",
       "    </tr>\n",
       "  </thead>\n",
       "  <tbody>\n",
       "    <tr>\n",
       "      <th>0</th>\n",
       "      <td>1</td>\n",
       "      <td>SAINT JOHN RIVER AT FORT KENT</td>\n",
       "      <td>01AD002</td>\n",
       "      <td>0</td>\n",
       "      <td>HYDAT</td>\n",
       "      <td>14703.921076</td>\n",
       "      <td>POLYGON ((-69.27594 47.81781, -69.27511 47.817...</td>\n",
       "    </tr>\n",
       "    <tr>\n",
       "      <th>1</th>\n",
       "      <td>1</td>\n",
       "      <td>ST. FRANCIS RIVER AT OUTLET OF GLASIER LAKE</td>\n",
       "      <td>01AD003</td>\n",
       "      <td>0</td>\n",
       "      <td>HYDAT</td>\n",
       "      <td>1358.643465</td>\n",
       "      <td>POLYGON ((-68.95533 47.20243, -68.95589 47.202...</td>\n",
       "    </tr>\n",
       "    <tr>\n",
       "      <th>2</th>\n",
       "      <td>1</td>\n",
       "      <td>MADAWASKA (RIVIERE) A 6 KM EN AVAL DU BARRAGE ...</td>\n",
       "      <td>01AD015</td>\n",
       "      <td>1</td>\n",
       "      <td>HYDAT</td>\n",
       "      <td>2712.000000</td>\n",
       "      <td>POLYGON ((-68.30417 47.9875, -68.29805 47.9700...</td>\n",
       "    </tr>\n",
       "    <tr>\n",
       "      <th>3</th>\n",
       "      <td>1</td>\n",
       "      <td>FISH RIVER NEAR FORT KENT</td>\n",
       "      <td>01AE001</td>\n",
       "      <td>0</td>\n",
       "      <td>HYDAT</td>\n",
       "      <td>2245.763823</td>\n",
       "      <td>POLYGON ((-68.5905 47.23913, -68.58887 47.2389...</td>\n",
       "    </tr>\n",
       "    <tr>\n",
       "      <th>4</th>\n",
       "      <td>1</td>\n",
       "      <td>BLACK BROOK NEAR ST-ANDRE-DE-MADAWASKA</td>\n",
       "      <td>01AF006</td>\n",
       "      <td>0</td>\n",
       "      <td>HYDAT</td>\n",
       "      <td>14.200000</td>\n",
       "      <td>POLYGON ((-67.75627 47.07445, -67.75627 47.108...</td>\n",
       "    </tr>\n",
       "  </tbody>\n",
       "</table>\n",
       "</div>"
      ],
      "text/plain": [
       "   features                                               Name OfficialID  \\\n",
       "0         1                      SAINT JOHN RIVER AT FORT KENT    01AD002   \n",
       "1         1        ST. FRANCIS RIVER AT OUTLET OF GLASIER LAKE    01AD003   \n",
       "2         1  MADAWASKA (RIVIERE) A 6 KM EN AVAL DU BARRAGE ...    01AD015   \n",
       "3         1                          FISH RIVER NEAR FORT KENT    01AE001   \n",
       "4         1             BLACK BROOK NEAR ST-ANDRE-DE-MADAWASKA    01AF006   \n",
       "\n",
       "   FlagPAVICS Source          Area  \\\n",
       "0           0  HYDAT  14703.921076   \n",
       "1           0  HYDAT   1358.643465   \n",
       "2           1  HYDAT   2712.000000   \n",
       "3           0  HYDAT   2245.763823   \n",
       "4           0  HYDAT     14.200000   \n",
       "\n",
       "                                            geometry  \n",
       "0  POLYGON ((-69.27594 47.81781, -69.27511 47.817...  \n",
       "1  POLYGON ((-68.95533 47.20243, -68.95589 47.202...  \n",
       "2  POLYGON ((-68.30417 47.9875, -68.29805 47.9700...  \n",
       "3  POLYGON ((-68.5905 47.23913, -68.58887 47.2389...  \n",
       "4  POLYGON ((-67.75627 47.07445, -67.75627 47.108...  "
      ]
     },
     "execution_count": 6,
     "metadata": {},
     "output_type": "execute_result"
    }
   ],
   "source": [
    "# import the HYSETS basins\n",
    "hysets_polygon_folder = '/home/danbot2/code_5820/large_sample_hydrology/common_data/HYSETS_data/HYSETS_watershed_boundaries'\n",
    "hs_df = gpd.read_file(os.path.join(hysets_polygon_folder, 'HYSETS_watershed_boundaries_20200730.shp'))\n",
    "hs_df.head()"
   ]
  },
  {
   "cell_type": "code",
   "execution_count": 7,
   "id": "f1ebea7c-ae70-42c3-9c56-01263a99d39b",
   "metadata": {},
   "outputs": [],
   "source": [
    "hs_basin = hs_df[hs_df['OfficialID'] == '07FD001'].copy()\n",
    "hs_basin = hs_basin.set_crs(4326)\n",
    "hs_basin = hs_basin.to_crs(3005)\n",
    "hs_basin.to_file('data/07FD001_HYSETS.geojson')"
   ]
  },
  {
   "cell_type": "code",
   "execution_count": 9,
   "id": "1da48e15-b0c8-42c2-9503-bfbd3f2c2421",
   "metadata": {
    "tags": []
   },
   "outputs": [],
   "source": [
    "# open polygon from BCUB\n",
    "# bc_df = gpd.read_file('data/intersecting_polygons.geojson')\n",
    "# bc_df.crs"
   ]
  },
  {
   "cell_type": "code",
   "execution_count": null,
   "id": "5d334509-eb8b-4469-9309-cbc13e3eaa8a",
   "metadata": {},
   "outputs": [],
   "source": [
    "assert bc_df.crs == latest_wsc_basin.crs"
   ]
  },
  {
   "cell_type": "code",
   "execution_count": null,
   "id": "096e8517-382f-4354-88ba-a72e1becdb1e",
   "metadata": {},
   "outputs": [],
   "source": [
    "intersections = gpd.sjoin(bc_df, latest_wsc_basin, how='inner', predicate='intersects')\n",
    "# Calculate the intersection area\n",
    "intersections['intersection_area'] = intersections.apply(\n",
    "    lambda row: row['geometry'].intersection(latest_wsc_basin.loc[row['index_right']].geometry).area, axis=1)\n",
    "\n",
    "# Calculate intersection area as a percentage of gdf2's polygon area\n",
    "# Assuming gdf2 has one polygon, or you want to compare with the area of each intersected polygon in gdf2\n",
    "intersections['percentage'] = intersections.apply(\n",
    "    lambda row: (row['intersection_area'] / latest_wsc_basin.loc[row['index_right']].geometry.area) * 100, axis=1)\n"
   ]
  },
  {
   "cell_type": "code",
   "execution_count": null,
   "id": "ee27860c-dbd9-4da8-bdca-fe6cdea5d805",
   "metadata": {},
   "outputs": [],
   "source": [
    "# compute the distance from the pour point to the updated WSC pour point\n",
    "# pour_pt_geoms = intersections.copy().set_geometry('pour_pt')\n",
    "intersections['pour_pt'] = intersections['pour_pt'].apply(lambda x: loads(x, hex=True))\n",
    "intersections['distance_to_wsc_ppt'] = intersections.apply(\n",
    "    lambda row: row['pour_pt'].distance(latest_wsc_ppt.geometry), axis=1)\n",
    "intersections.head()"
   ]
  },
  {
   "cell_type": "code",
   "execution_count": null,
   "id": "c7e2c300-a862-4c50-a990-16926d7d92a4",
   "metadata": {},
   "outputs": [],
   "source": [
    "intersections.columns"
   ]
  },
  {
   "cell_type": "code",
   "execution_count": null,
   "id": "6d7ca862-583e-4a95-8145-3872169dd8f5",
   "metadata": {},
   "outputs": [],
   "source": [
    "# first, sort by the pct overlapping area\n",
    "out_df = intersections[['intersection_area', 'percentage', 'region_code', 'geometry', 'distance_to_wsc_ppt']].sort_values('percentage', ascending=False)\n",
    "# compute distance between pour points\n",
    "out_df.head(20)"
   ]
  },
  {
   "cell_type": "markdown",
   "id": "de4d2b40-3256-40c7-8c85-99ce348a9811",
   "metadata": {},
   "source": [
    "The above result shows that there are many polygons that match very closely by percent overlap.  Now sort by the distance to the WSC pour point."
   ]
  },
  {
   "cell_type": "code",
   "execution_count": null,
   "id": "941db71a-1409-44d6-8606-da8d8bf878fb",
   "metadata": {},
   "outputs": [],
   "source": [
    "out_df = out_df.sort_values('distance_to_wsc_ppt')\n",
    "out_df.head()"
   ]
  },
  {
   "cell_type": "code",
   "execution_count": null,
   "id": "55343886-f6ae-4efa-9230-e450a71a9369",
   "metadata": {},
   "outputs": [],
   "source": [
    "out_df = out_df[out_df.index == 88]\n",
    "out_df.to_file('data/BCUB_polygon_best_overlap.geojson')\n",
    "print(out_df)"
   ]
  },
  {
   "cell_type": "code",
   "execution_count": null,
   "id": "4fd837dd-1494-4ee0-9abf-57295dd35964",
   "metadata": {},
   "outputs": [],
   "source": [
    "from bokeh.plotting import figure, show\n",
    "from bokeh.models import ColumnDataSource\n",
    "from bokeh.io import output_notebook\n",
    "output_notebook()"
   ]
  },
  {
   "cell_type": "code",
   "execution_count": null,
   "id": "13955800-2c55-49b3-8ec6-48370f4dd2a0",
   "metadata": {},
   "outputs": [],
   "source": [
    "def plot_all_geometries(gdf):\n",
    "    # Create a Bokeh plot\n",
    "    p = figure(title=\"\", x_axis_label='Longitude', y_axis_label='Latitude',\n",
    "              width=600, height=400)\n",
    "\n",
    "    # Iterate through each geometry in the GeoDataFrame\n",
    "    lines = ['solid', 'dashed', 'dotted']\n",
    "    n = 0\n",
    "    for i, row in gdf.iterrows():\n",
    "        name = row['name']\n",
    "        geometry = row['geometry']\n",
    "\n",
    "        if geometry.geom_type == 'Polygon':\n",
    "            x, y = geometry.exterior.xy\n",
    "            p.line(x, y, line_width=3, color='black',\n",
    "                   legend_label=name, line_dash=lines[n])\n",
    "        elif geometry.geom_type == 'MultiPolygon':\n",
    "            # Plot each polygon in a MultiPolygon\n",
    "            for poly in geometry:\n",
    "                x, y = poly.exterior.xy\n",
    "                p.line(x, y, line_width=2, legend_label=name, line_dash=lines[n])\n",
    "        # Add more conditions for other geometry types if necessary\n",
    "        n += 1\n",
    "    # Show the plot\n",
    "    p.legend.location='bottom_right'\n",
    "    p.toolbar.autohide = True\n",
    "\n",
    "    return p"
   ]
  },
  {
   "cell_type": "code",
   "execution_count": null,
   "id": "a94f7554-12c4-486c-9292-0e39eeddc04a",
   "metadata": {},
   "outputs": [],
   "source": [
    "comb_df = gpd.GeoDataFrame(pd.concat([hs_basin, latest_wsc_basin, out_df]), crs='EPSG:3005')\n",
    "comb_df['name'] = ['HYSETS', 'WSC', 'BCUB']\n",
    "comb_df = comb_df[['name', 'geometry']].to_crs(4326)\n",
    "comb_df.to_file('data/07FD001_source_comparison.geojson')"
   ]
  },
  {
   "cell_type": "code",
   "execution_count": null,
   "id": "f1d664f8-8fd1-4319-a7e8-4e440315bc71",
   "metadata": {},
   "outputs": [],
   "source": [
    "p1 = plot_all_geometries(comb_df)"
   ]
  },
  {
   "cell_type": "code",
   "execution_count": null,
   "id": "0a359850-da80-471b-aeac-6d118728039b",
   "metadata": {},
   "outputs": [],
   "source": [
    "show(p1)"
   ]
  },
  {
   "cell_type": "code",
   "execution_count": null,
   "id": "27906e94-809e-4183-aae8-0ebfaec40776",
   "metadata": {},
   "outputs": [],
   "source": []
  }
 ],
 "metadata": {
  "kernelspec": {
   "display_name": "Python 3 (ipykernel)",
   "language": "python",
   "name": "python3"
  },
  "language_info": {
   "codemirror_mode": {
    "name": "ipython",
    "version": 3
   },
   "file_extension": ".py",
   "mimetype": "text/x-python",
   "name": "python",
   "nbconvert_exporter": "python",
   "pygments_lexer": "ipython3",
   "version": "3.10.12"
  }
 },
 "nbformat": 4,
 "nbformat_minor": 5
}
