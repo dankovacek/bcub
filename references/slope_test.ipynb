{
 "cells": [
  {
   "cell_type": "code",
   "execution_count": 1,
   "id": "c0e07176-5865-4cf2-9514-a32782b4fafa",
   "metadata": {},
   "outputs": [],
   "source": [
    "import numpy as np\n",
    "import math\n",
    "import os\n",
    "import rioxarray as rxr\n",
    "import time\n",
    "\n",
    "from scipy import ndimage\n",
    "from whitebox.whitebox_tools import WhiteboxTools\n",
    "\n",
    "wbt = WhiteboxTools()\n",
    "wbt.verbose = False\n"
   ]
  },
  {
   "cell_type": "code",
   "execution_count": 2,
   "id": "ab921078-b1bb-4f4b-97d4-f72dd607b5e1",
   "metadata": {},
   "outputs": [],
   "source": [
    "f1e = '08P_USGS_3DEP_3005_res1_00001.tif'\n",
    "f1a = '08P_USGS_3DEP_3005_res1_00001_aspect.tif'\n",
    "f1s = '08P_USGS_3DEP_3005_res1_00001_slope.tif'"
   ]
  },
  {
   "cell_type": "code",
   "execution_count": 3,
   "id": "6f956687-545a-43d8-8a3d-4cc4ec3fbd66",
   "metadata": {},
   "outputs": [],
   "source": [
    "def retrieve_raster(fpath):\n",
    "    \n",
    "    # fpath = '08P_USGS_3DEP_3005_res1_01710.tif'\n",
    "    raster = rxr.open_rasterio(fpath, mask_and_scale=True)\n",
    "    crs = raster.rio.crs\n",
    "    affine = raster.rio.transform(recalc=False)\n",
    "    return raster, crs, affine"
   ]
  },
  {
   "cell_type": "code",
   "execution_count": 4,
   "id": "7a3f295a-8c03-4c48-8e80-8d8766e58f99",
   "metadata": {},
   "outputs": [
    {
     "name": "stdout",
     "output_type": "stream",
     "text": [
      "(78, 81)\n"
     ]
    },
    {
     "data": {
      "text/plain": [
       "array([[   nan,    nan,    nan,    nan,    nan, 1292.4, 1297.2, 1305.2],\n",
       "       [   nan,    nan,    nan,    nan, 1277.1, 1285.9, 1289.2, 1292.2],\n",
       "       [   nan,    nan,    nan,    nan, 1277.1, 1271.3, 1272.5, 1271.4],\n",
       "       [   nan,    nan,    nan, 1248.3, 1265.8, 1271.3, 1272.5, 1271.4],\n",
       "       [   nan,    nan, 1232.6, 1235.7, 1241.2, 1249.6, 1255.2, 1267.5],\n",
       "       [   nan, 1214.7, 1216.9, 1220.1, 1224.6, 1252.2, 1265.9, 1276. ],\n",
       "       [1206.4, 1213.4, 1216.7, 1222. ,    nan,    nan,    nan,    nan],\n",
       "       [   nan,    nan,    nan,    nan,    nan,    nan,    nan,    nan],\n",
       "       [   nan,    nan,    nan,    nan,    nan,    nan,    nan,    nan],\n",
       "       [   nan,    nan,    nan,    nan,    nan,    nan,    nan,    nan]],\n",
       "      dtype=float32)"
      ]
     },
     "execution_count": 4,
     "metadata": {},
     "output_type": "execute_result"
    }
   ],
   "source": [
    "Er, crs, affine = retrieve_raster(f1e)\n",
    "E = Er.data[0]\n",
    "print(E.shape)\n",
    "E[38:48, 0:8].round(1)"
   ]
  },
  {
   "cell_type": "code",
   "execution_count": 5,
   "id": "52b25f7c-a76b-4d44-9450-932fa786f5ed",
   "metadata": {},
   "outputs": [
    {
     "data": {
      "text/plain": [
       "(1, 78, 81)"
      ]
     },
     "execution_count": 5,
     "metadata": {},
     "output_type": "execute_result"
    }
   ],
   "source": [
    "Sr, crs, affine = retrieve_raster(f1s)\n",
    "Sr.data.shape"
   ]
  },
  {
   "cell_type": "code",
   "execution_count": 6,
   "id": "b81f4cd1-f935-4035-9779-d4ecf61a4d37",
   "metadata": {},
   "outputs": [
    {
     "data": {
      "text/plain": [
       "array([[ nan,  nan,  nan,  nan,  nan, 74.5, 67.1, 64.7],\n",
       "       [ nan,  nan,  nan,  nan, 76.4, 73. , 60.3, 54. ],\n",
       "       [ nan,  nan,  nan,  nan, 74.3, 71.3, 70.2, 71.3],\n",
       "       [ nan,  nan,  nan, 64.4, 54.3, 62. , 73.9, 77.1],\n",
       "       [ nan,  nan, 69.3, 54.3, 51.5, 62.8, 68.5, 68.2],\n",
       "       [ nan, 81.5, 72.9, 66. , 58.9, 66.6, 68.1, 68.7],\n",
       "       [87.6, 83.2, 83.4, 86. ,  nan,  nan,  nan,  nan],\n",
       "       [ nan,  nan,  nan,  nan,  nan,  nan,  nan,  nan],\n",
       "       [ nan,  nan,  nan,  nan,  nan,  nan,  nan,  nan],\n",
       "       [ nan,  nan,  nan,  nan,  nan,  nan,  nan,  nan]], dtype=float32)"
      ]
     },
     "execution_count": 6,
     "metadata": {},
     "output_type": "execute_result"
    }
   ],
   "source": [
    "S = Sr.data[0]\n",
    "S = -S + 90\n",
    "S[38:48, 0:8].round(1)"
   ]
  },
  {
   "cell_type": "code",
   "execution_count": null,
   "id": "a74cdff2-aa34-449a-a0b4-bce1a5fd6278",
   "metadata": {},
   "outputs": [],
   "source": [
    "# S = -S + 90\n",
    "S1_deg[38:48, 0:8].round(1)"
   ]
  },
  {
   "cell_type": "code",
   "execution_count": 50,
   "id": "138ce44e-db87-42a0-933a-0b53cfd08664",
   "metadata": {},
   "outputs": [
    {
     "data": {
      "text/plain": [
       "array([[  nan,   nan, 218.3, 215.9, 211.3, 209.6, 208.1],\n",
       "       [  nan, 225.3, 196.8, 193.2, 188.6, 197.5, 196.2],\n",
       "       [  nan, 210.7, 193.1, 174.3, 197.4, 232.3, 246.9],\n",
       "       [220.8, 204. , 196.3, 188.7, 239.3, 278.8, 303.3],\n",
       "       [215.6, 221.9, 215.5, 241.2, 271.7, 279. , 278.6],\n",
       "       [212.6, 215.9, 262.1, 304.2, 307.1, 282.8, 294.5],\n",
       "       [251.4,   nan,   nan,   nan,   nan,   nan,   nan],\n",
       "       [  nan,   nan,   nan,   nan,   nan,   nan,   nan],\n",
       "       [  nan,   nan,   nan,   nan,   nan,   nan,   nan],\n",
       "       [  nan,   nan,   nan,   nan,   nan,   nan,   nan]], dtype=float32)"
      ]
     },
     "execution_count": 50,
     "metadata": {},
     "output_type": "execute_result"
    }
   ],
   "source": [
    "Ar, crs, affine = retrieve_raster(f1a)\n",
    "A = Ar.data[0]\n",
    "# A = np.where(A < 90, 90-A, 360 - (A-90))\n",
    "A[38:48, 3:10].round(1)"
   ]
  },
  {
   "cell_type": "code",
   "execution_count": 51,
   "id": "6adbab99-575c-4f0a-a24a-6b96f8642211",
   "metadata": {},
   "outputs": [
    {
     "data": {
      "text/plain": [
       "array([[  nan,   nan, 231.7, 234.1, 238.7, 240.4, 241.9],\n",
       "       [  nan, 224.7, 253.2, 256.8, 261.4, 252.5, 253.8],\n",
       "       [  nan, 239.3, 256.9, 275.7, 252.6, 217.7, 203.1],\n",
       "       [229.2, 246. , 253.7, 261.3, 210.7, 171.2, 146.7],\n",
       "       [234.4, 228.1, 234.5, 208.8, 178.3, 171. , 171.4],\n",
       "       [237.4, 234.1, 187.9, 145.8, 142.9, 167.2, 155.5],\n",
       "       [198.6,   nan,   nan,   nan,   nan,   nan,   nan],\n",
       "       [  nan,   nan,   nan,   nan,   nan,   nan,   nan],\n",
       "       [  nan,   nan,   nan,   nan,   nan,   nan,   nan],\n",
       "       [  nan,   nan,   nan,   nan,   nan,   nan,   nan]], dtype=float32)"
      ]
     },
     "execution_count": 51,
     "metadata": {},
     "output_type": "execute_result"
    }
   ],
   "source": [
    "# convert to math convention angles\n",
    "A = np.where(A < 90, 90-A, 360-(A-90))\n",
    "A[38:48, 3:10].round(1)"
   ]
  },
  {
   "cell_type": "code",
   "execution_count": 52,
   "id": "3f333cb4-56c3-4eb2-9d13-4379f1cbfade",
   "metadata": {},
   "outputs": [
    {
     "data": {
      "text/plain": [
       "194.77054595947266"
      ]
     },
     "execution_count": 52,
     "metadata": {},
     "output_type": "execute_result"
    }
   ],
   "source": [
    "A = np.where(A < 90, 90-A, 360 - (A-90))\n",
    "x_mean = np.nanmean(np.cos(np.radians(A)))\n",
    "y_mean = np.nanmean(np.sin(np.radians(A)))\n",
    "mean_angle = np.degrees(np.arctan2(y_mean, x_mean))\n",
    "# mean angle [-180, 180]\n",
    "# if mean_angle < 0:\n",
    "#     mean_angle = 90 - mean_angle\n",
    "# else:\n",
    "#     mean_angle = 270 + (180 - mean_angle)\n",
    "# mean_A = (mean_angle + 360) % 360\n",
    "mean_A = 90 - mean_angle\n",
    "mean_A = (mean_A + 360) % 360\n",
    "mean_A"
   ]
  },
  {
   "cell_type": "code",
   "execution_count": 53,
   "id": "12e8c473-ba7d-4926-98cd-af8fec0038c3",
   "metadata": {},
   "outputs": [
    {
     "data": {
      "text/plain": [
       "-104.770546"
      ]
     },
     "execution_count": 53,
     "metadata": {},
     "output_type": "execute_result"
    }
   ],
   "source": [
    "mean_angle"
   ]
  },
  {
   "cell_type": "code",
   "execution_count": null,
   "id": "ab37f8e4-5b18-44fa-8555-4c115976dbb4",
   "metadata": {},
   "outputs": [],
   "source": [
    "A1[38:48, 5:10].round(1)"
   ]
  },
  {
   "cell_type": "code",
   "execution_count": null,
   "id": "2ebdca9d-4933-4699-9f81-d2cc9ef087be",
   "metadata": {},
   "outputs": [],
   "source": [
    "E[38:48, 3:10].round(1)"
   ]
  },
  {
   "cell_type": "markdown",
   "id": "bf4183cf-ba61-478c-9fea-af8375dc551a",
   "metadata": {},
   "source": [
    "### dimensions, coordinates, etc.\n",
    "\n",
    "This raster has shape (1, 4560, 3841).  \n",
    "\n",
    "The first dimension (band) is the elevation data (z dimension)\n",
    "\n",
    "The second and third values are the y and x dimensions, respectively.\n",
    "\n",
    "The longitude (x direction) values are in the range 1.3M metres (for EPSG:3005), this corresponds to the x-dimension (east-west) which is 3841 wide.\n",
    "\n",
    "The latitude (y direction) values are in the range 500K metres, this corresponds to the y-direction (north-south) which is 4560 high.\n",
    "\n",
    "\n",
    "When we determine the slope and aspect, we can convolve a 3x3 matrix representing the cells surrounding each target cell:\n",
    "\n",
    "|  |  |  |\n",
    "|---|---|---|\n",
    "| $Z_{-+}$ | $Z_{0+}$ | $Z_{++}$ |\n",
    "| $Z_{-0}$ | $Z_{00}$ | $Z_{+0}$ |\n",
    "| $Z_{--}$ | $Z_{0-}$ | $Z_{+-}$ |\n",
    "\n",
    "Which is represented in matrix form as\n",
    "\n",
    "|  |  |  |\n",
    "|---|---|---|\n",
    "| $Z_{0,0}$ | $Z_{0,1}$ | $Z_{0,2}$ |\n",
    "| $Z_{1,0}$ | $Z_{1,1}$ | $Z_{1,2}$ |\n",
    "| $Z_{2,0}$ | $Z_{2,1}$ | $Z_{2,2}$ |\n",
    "\n",
    "\n"
   ]
  },
  {
   "cell_type": "markdown",
   "id": "554130bf-b886-48e8-a7a6-7261cd94711e",
   "metadata": {},
   "source": [
    "We want to take the weighted average of three horizontal (dx) and vertical (dy) slopes, where the middle slope is given twice the weight of the outer slopes (sum to 1, so outer edges get 1/4 and middle gets 1/2).  We divide by $2dx$ because dx is the raster resolution, or the grid cell dimension in the x direction, and we are subtracting elevations at twice this distance.\n",
    "\n",
    "$$dz_x = \\frac{\\frac{1}{4}\\left( Z_{0,2} - Z_{0,0} \\right) + \\frac{1}{2}\\left( Z_{1,2} - Z_{1,0} \\right) + \\frac{1}{4}\\left( Z_{2,2} - Z_{2,0} \\right)}{2 dx}$$\n",
    "\n"
   ]
  },
  {
   "cell_type": "markdown",
   "id": "0feb026a-c306-411c-a582-8f5772ca7114",
   "metadata": {},
   "source": [
    "Which can be rewritten as:\n",
    "\n",
    "$$dz_x = \\frac{1}{8dx} \\left[ \\left(Z_{0,2} - Z_{0,0} \\right) + 2\\left( Z_{1,2} - Z_{1,0} \\right) + \\left( Z_{2,2} - Z_{2,0} \\right) \\right]$$\n",
    "\n",
    "And similarly in the y direction:\n",
    "$$dz_y = \\frac{1}{8dy} \\left[ \\left(Z_{0,2} - Z_{2,2} \\right) + 2\\left( Z_{0,1} - Z_{2,1} \\right) + \\left( Z_{0,0} - Z_{2,0} \\right) \\right]$$"
   ]
  },
  {
   "cell_type": "markdown",
   "id": "9098153c-8967-4320-93e9-c6a9c9abb91a",
   "metadata": {},
   "source": [
    "These can be written generally as computational expressions, for all matrix cells$i, j$:\n",
    "\n",
    "`dz_x = ((Z[i-1,j+1] - Z[i-1,j-1]) + 2 * (Z[i,j+1] - Z[i,j-1]) + (Z[i+1,j-1] - Z[i+1,j+1])) / (8*dx)`\n",
    "\n",
    "and\n",
    "\n",
    "`dz_y = ((Z[i-1,j+1] - Z[i+1,j+1]) + 2 * (Z[i-1,j] - Z[i+1,j]) + (Z[i-1,j-1] - Z[i+1,j-1])) / (8*dy)`\n"
   ]
  },
  {
   "cell_type": "markdown",
   "id": "de409e0f-1fea-4e7e-b693-91231fa2dff9",
   "metadata": {},
   "source": [
    "See this post about performance of convolutions:\n",
    "\n",
    "https://laurentperrinet.github.io/sciblog/posts/2017-09-20-the-fastest-2d-convolution-in-the-world.html\n",
    "\n",
    "tl;dr, use numpy"
   ]
  },
  {
   "cell_type": "code",
   "execution_count": null,
   "id": "a4c0a574-16d3-4345-85d3-a98fb8f749bf",
   "metadata": {},
   "outputs": [],
   "source": [
    "from numpy.fft import fft2, ifft2"
   ]
  },
  {
   "cell_type": "code",
   "execution_count": null,
   "id": "1cb79fbe-943a-45ac-9263-b4eb79815888",
   "metadata": {},
   "outputs": [],
   "source": [
    "def calculate_slope(Z, dx=1, dy=1):\n",
    "    \"\"\"\n",
    "    Z is a 3x3 matrix of elevation values, and we want to calculate the \n",
    "    weighted slope in both x and y directions, then convert it to slope in degrees.\n",
    "    We then want to average all slope values for the raster\n",
    "    \"\"\"\n",
    "    shape = Z.shape\n",
    "    iy, ix = shape\n",
    "    print(shape)\n",
    "    S = np.empty_like(Z)\n",
    "    for i in range(1, ix-1):\n",
    "        for j in range(1, iy-1):\n",
    "            # print(i, j, Z[i, j])\n",
    "            dz_x = ((Z[i-1,j+1] - Z[i-1,j-1]) + 2 * (Z[i,j+1] - Z[i,j-1]) + (Z[i+1,j-1] - Z[i+1,j+1])) / (8*dx)\n",
    "            dz_y = ((Z[i-1,j+1] - Z[i+1,j+1]) + 2 * (Z[i-1,j] - Z[i+1,j]) + (Z[i-1,j-1] - Z[i+1,j-1])) / (8*dy)\n",
    "            max_slope_pct = np.sqrt(np.power(dz_x, 2) + np.power(dz_y, 2))\n",
    "            max_slope_deg = (180 / np.pi) * np.arctan(max_slope_pct)\n",
    "            # print(dz_x, dz_y, max_slope_pct, max_slope_deg)\n",
    "            S[i,j] = max_slope_deg\n",
    "    return np.mean(S)"
   ]
  },
  {
   "cell_type": "markdown",
   "id": "7d99b93b-ec2f-444e-bceb-1578fbba597b",
   "metadata": {},
   "source": [
    "Convolve a matrix by a 3x3 matrix \"operator\" to get the slope.\n",
    "\n",
    "This is used in edge detection to determine the rate of change of color value, \n",
    "which is analogous to calculating slope of a surface."
   ]
  },
  {
   "cell_type": "code",
   "execution_count": null,
   "id": "1cc9e824-726e-457e-86c8-58cbf9915619",
   "metadata": {},
   "outputs": [],
   "source": [
    "dy, dx = (abs(r) for r in Er.rio.resolution())\n",
    "print(dy, dx)"
   ]
  },
  {
   "cell_type": "code",
   "execution_count": null,
   "id": "79dec9aa-430f-4f41-b73d-84c9fde20727",
   "metadata": {},
   "outputs": [],
   "source": [
    "xf = np.array(\n",
    "    [[1, 0, -1], \n",
    "      [2, 0, -2], \n",
    "      [1, 0, -1]], dtype=float) / (8.0 * dx)\n",
    "yf = np.array([[-1, -2, -1], \n",
    "      [0, 0, 0], \n",
    "      [1, 2, 1]], dtype=float) / (8.0 * dy)"
   ]
  },
  {
   "cell_type": "code",
   "execution_count": null,
   "id": "113f0637-5b80-4091-b20a-6d1b9a3e2f78",
   "metadata": {},
   "outputs": [],
   "source": [
    "from scipy.signal import convolve2d"
   ]
  },
  {
   "cell_type": "code",
   "execution_count": null,
   "id": "59e4dd0a-1d8e-4c25-90c1-d339bb56a5f8",
   "metadata": {
    "tags": []
   },
   "outputs": [],
   "source": [
    "t0 = time.time()\n",
    "ddx = convolve2d(E, xf, mode='same', boundary='symm')\n",
    "ddy = convolve2d(E, yf, mode='same', boundary='symm')\n",
    "t1 = time.time()\n",
    "print(f'time to convolve: {t1-t0:.4f}')"
   ]
  },
  {
   "cell_type": "code",
   "execution_count": null,
   "id": "202080fe-4a4a-406f-97e6-0d54929efc71",
   "metadata": {},
   "outputs": [],
   "source": [
    "S1 = np.sqrt(np.add(np.power(ddx, 2.0), np.power(ddy, 2.0)))\n",
    "S1_deg = (180/np.pi) * np.arctan(S1)\n",
    "mean_S = np.nanmean(mean_S_deg)\n",
    "mean_S"
   ]
  },
  {
   "cell_type": "code",
   "execution_count": null,
   "id": "3e5176fa-ae00-456b-b6ce-40f013e58359",
   "metadata": {},
   "outputs": [],
   "source": [
    "A1 = (180 / np.pi)* np.arctan2(ddy, ddx)\n",
    "# A1 = np.where(A1<0, 360+A1, A1)\n",
    "\n",
    "A1[38:48, 3:10].round(1)"
   ]
  },
  {
   "cell_type": "code",
   "execution_count": null,
   "id": "68e8d97f-700e-43e8-b6cf-ac1c245e230f",
   "metadata": {},
   "outputs": [],
   "source": [
    "A[38:48, 3:10].round(1)"
   ]
  },
  {
   "cell_type": "code",
   "execution_count": null,
   "id": "e687fc14-b45d-485a-8e61-390410725670",
   "metadata": {},
   "outputs": [],
   "source": [
    "# calculate circular mean aspect\n",
    "def calculate_circular_mean_aspect(aspect):\n",
    "    \"\"\"\n",
    "    Calculate the circular mean of slope directions given \n",
    "    a matrix of slopes. Return circular mean aspect in degrees.\n",
    "    \"\"\"\n",
    "    n_angles = np.count_nonzero(~np.isnan(aspect))\n",
    "    sine_mean = np.divide(np.nansum(np.sin(np.radians(aspect))), n_angles)\n",
    "    cosine_mean = np.divide(np.nansum(np.cos(np.radians(aspect))), n_angles)\n",
    "    vector_mean = np.arctan2(sine_mean, cosine_mean)\n",
    "    aspect_degrees = np.degrees(vector_mean)\n",
    "    return aspect_degrees\n",
    "    # if aspect_degrees + 180 > 360:\n",
    "    #     return aspect_degrees - 180\n",
    "    # else:\n",
    "    #     return aspect_degrees + 180"
   ]
  },
  {
   "cell_type": "code",
   "execution_count": null,
   "id": "e6e8ebfc-a7df-4b87-8fff-a971e58e6f43",
   "metadata": {},
   "outputs": [],
   "source": [
    "\n",
    "aspect\n",
    "# mean_aspect_deg = calculate_circular_mean_aspect(aspect)/\n",
    "# mean_aspect_deg\n",
    "As = calculate_circular_mean_aspect(aspect)\n",
    "As"
   ]
  },
  {
   "cell_type": "code",
   "execution_count": null,
   "id": "52a5ac56-273d-4d78-86af-fd38e6f31ba3",
   "metadata": {},
   "outputs": [],
   "source": [
    "# This is the outlet of the basin, look at the polygon to verify\n",
    "raster.data[0][75:85, 0:5].round(2)"
   ]
  },
  {
   "cell_type": "code",
   "execution_count": null,
   "id": "6e80b6ae-d781-43a5-9449-75a428b639ee",
   "metadata": {},
   "outputs": [],
   "source": [
    "print(raster.data[0].shape, S.shape)"
   ]
  },
  {
   "cell_type": "code",
   "execution_count": null,
   "id": "00e0ad9b-805d-41dc-ae94-39a2089f5de7",
   "metadata": {},
   "outputs": [],
   "source": [
    "# There's a big jump from 1515 to 1489, this is roughly a \n",
    "# 26m drop over 25m run (100% slope)\n",
    "S[75:85, 0:5].round(2)"
   ]
  },
  {
   "cell_type": "code",
   "execution_count": null,
   "id": "abc1daf4-2e10-4483-9b9f-56e7d5104f9f",
   "metadata": {},
   "outputs": [],
   "source": [
    "# The slope corresponding to the big drop is mostly north to south\n",
    "# but there's an east-west component as well\n",
    "# the convention appears to indicate the uphill direction,\n",
    "# counter-clockwise from due East\n",
    "aspect[75:85, 0:5].round(1)"
   ]
  },
  {
   "cell_type": "code",
   "execution_count": null,
   "id": "7db67e48-3b0b-4593-8f46-c0e62109a2a9",
   "metadata": {},
   "outputs": [],
   "source": [
    "# so now we just need to rotate by 180 degrees\n",
    "# to give it the same sense as interpreted by \"basin orientation\"\n",
    "# aspect = np.where(aspect + 180 > 360, aspect - 180, aspect + 180)\n",
    "# aspect[75:85, 0:5].round(1)"
   ]
  },
  {
   "cell_type": "code",
   "execution_count": null,
   "id": "60a77302-0009-4b0d-8db8-b941115283dd",
   "metadata": {},
   "outputs": [],
   "source": [
    "circ_mean = calculate_circular_mean_aspect(aspect)\n",
    "circ_mean"
   ]
  },
  {
   "cell_type": "code",
   "execution_count": null,
   "id": "2fa48010-4bcb-4f15-8c9e-53a05e7be3b4",
   "metadata": {},
   "outputs": [],
   "source": [
    "out_path = fpath.replace('.tif', '_slope.tif')\n",
    "rp = '/home/danbot/Documents/code/22/basin_generator/references/'\n",
    "wbt.aspect(\n",
    "    fpath, \n",
    "    os.path.join(rp, out_path), \n",
    "    zfactor=None, \n",
    "    # callback=default_callback\n",
    ")"
   ]
  },
  {
   "cell_type": "code",
   "execution_count": null,
   "id": "2acacb5f-2d93-4a3d-84b3-eb93af9a017f",
   "metadata": {},
   "outputs": [],
   "source": []
  },
  {
   "cell_type": "code",
   "execution_count": null,
   "id": "162354ec-ba36-44ec-8429-360942d36b48",
   "metadata": {},
   "outputs": [],
   "source": []
  }
 ],
 "metadata": {
  "kernelspec": {
   "display_name": "Python 3 (ipykernel)",
   "language": "python",
   "name": "python3"
  },
  "language_info": {
   "codemirror_mode": {
    "name": "ipython",
    "version": 3
   },
   "file_extension": ".py",
   "mimetype": "text/x-python",
   "name": "python",
   "nbconvert_exporter": "python",
   "pygments_lexer": "ipython3",
   "version": "3.10.6"
  }
 },
 "nbformat": 4,
 "nbformat_minor": 5
}
