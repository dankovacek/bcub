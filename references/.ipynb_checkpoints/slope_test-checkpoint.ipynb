{
 "cells": [
  {
   "cell_type": "code",
   "execution_count": 29,
   "id": "c0e07176-5865-4cf2-9514-a32782b4fafa",
   "metadata": {},
   "outputs": [],
   "source": [
    "import numpy as np\n",
    "import math\n",
    "import os\n",
    "import rioxarray as rxr\n",
    "import time\n",
    "\n",
    "from scipy import ndimage\n",
    "from whitebox.whitebox_tools import WhiteboxTools\n",
    "\n",
    "wbt = WhiteboxTools()\n",
    "wbt.verbose = False\n"
   ]
  },
  {
   "cell_type": "code",
   "execution_count": 30,
   "id": "ab921078-b1bb-4f4b-97d4-f72dd607b5e1",
   "metadata": {},
   "outputs": [],
   "source": [
    "fpath = '08P_USGS_3DEP_3005_res1_01463.tif'\n",
    "f1 = '08P_USGS_3DEP_3005_res1_00094.tif'\n",
    "f1s = '08P_USGS_3DEP_3005_res1_00094_slope.tif'"
   ]
  },
  {
   "cell_type": "code",
   "execution_count": 31,
   "id": "6f956687-545a-43d8-8a3d-4cc4ec3fbd66",
   "metadata": {},
   "outputs": [],
   "source": [
    "def retrieve_raster(fpath):\n",
    "    \n",
    "    # fpath = '08P_USGS_3DEP_3005_res1_01710.tif'\n",
    "    raster = rxr.open_rasterio(fpath, mask_and_scale=True)\n",
    "    crs = raster.rio.crs\n",
    "    affine = raster.rio.transform(recalc=False)\n",
    "    return raster, crs, affine"
   ]
  },
  {
   "cell_type": "code",
   "execution_count": 32,
   "id": "52b25f7c-a76b-4d44-9450-932fa786f5ed",
   "metadata": {},
   "outputs": [
    {
     "data": {
      "text/plain": [
       "(1, 96, 74)"
      ]
     },
     "execution_count": 32,
     "metadata": {},
     "output_type": "execute_result"
    }
   ],
   "source": [
    "raster, crs, affine = retrieve_raster(fpath)\n",
    "raster.data.shape"
   ]
  },
  {
   "cell_type": "code",
   "execution_count": 33,
   "id": "01f9eb77-97c1-478d-a5a2-99ef2ba37e4c",
   "metadata": {},
   "outputs": [
    {
     "data": {
      "text/html": [
       "<div><svg style=\"position: absolute; width: 0; height: 0; overflow: hidden\">\n",
       "<defs>\n",
       "<symbol id=\"icon-database\" viewBox=\"0 0 32 32\">\n",
       "<path d=\"M16 0c-8.837 0-16 2.239-16 5v4c0 2.761 7.163 5 16 5s16-2.239 16-5v-4c0-2.761-7.163-5-16-5z\"></path>\n",
       "<path d=\"M16 17c-8.837 0-16-2.239-16-5v6c0 2.761 7.163 5 16 5s16-2.239 16-5v-6c0 2.761-7.163 5-16 5z\"></path>\n",
       "<path d=\"M16 26c-8.837 0-16-2.239-16-5v6c0 2.761 7.163 5 16 5s16-2.239 16-5v-6c0 2.761-7.163 5-16 5z\"></path>\n",
       "</symbol>\n",
       "<symbol id=\"icon-file-text2\" viewBox=\"0 0 32 32\">\n",
       "<path d=\"M28.681 7.159c-0.694-0.947-1.662-2.053-2.724-3.116s-2.169-2.030-3.116-2.724c-1.612-1.182-2.393-1.319-2.841-1.319h-15.5c-1.378 0-2.5 1.121-2.5 2.5v27c0 1.378 1.122 2.5 2.5 2.5h23c1.378 0 2.5-1.122 2.5-2.5v-19.5c0-0.448-0.137-1.23-1.319-2.841zM24.543 5.457c0.959 0.959 1.712 1.825 2.268 2.543h-4.811v-4.811c0.718 0.556 1.584 1.309 2.543 2.268zM28 29.5c0 0.271-0.229 0.5-0.5 0.5h-23c-0.271 0-0.5-0.229-0.5-0.5v-27c0-0.271 0.229-0.5 0.5-0.5 0 0 15.499-0 15.5 0v7c0 0.552 0.448 1 1 1h7v19.5z\"></path>\n",
       "<path d=\"M23 26h-14c-0.552 0-1-0.448-1-1s0.448-1 1-1h14c0.552 0 1 0.448 1 1s-0.448 1-1 1z\"></path>\n",
       "<path d=\"M23 22h-14c-0.552 0-1-0.448-1-1s0.448-1 1-1h14c0.552 0 1 0.448 1 1s-0.448 1-1 1z\"></path>\n",
       "<path d=\"M23 18h-14c-0.552 0-1-0.448-1-1s0.448-1 1-1h14c0.552 0 1 0.448 1 1s-0.448 1-1 1z\"></path>\n",
       "</symbol>\n",
       "</defs>\n",
       "</svg>\n",
       "<style>/* CSS stylesheet for displaying xarray objects in jupyterlab.\n",
       " *\n",
       " */\n",
       "\n",
       ":root {\n",
       "  --xr-font-color0: var(--jp-content-font-color0, rgba(0, 0, 0, 1));\n",
       "  --xr-font-color2: var(--jp-content-font-color2, rgba(0, 0, 0, 0.54));\n",
       "  --xr-font-color3: var(--jp-content-font-color3, rgba(0, 0, 0, 0.38));\n",
       "  --xr-border-color: var(--jp-border-color2, #e0e0e0);\n",
       "  --xr-disabled-color: var(--jp-layout-color3, #bdbdbd);\n",
       "  --xr-background-color: var(--jp-layout-color0, white);\n",
       "  --xr-background-color-row-even: var(--jp-layout-color1, white);\n",
       "  --xr-background-color-row-odd: var(--jp-layout-color2, #eeeeee);\n",
       "}\n",
       "\n",
       "html[theme=dark],\n",
       "body[data-theme=dark],\n",
       "body.vscode-dark {\n",
       "  --xr-font-color0: rgba(255, 255, 255, 1);\n",
       "  --xr-font-color2: rgba(255, 255, 255, 0.54);\n",
       "  --xr-font-color3: rgba(255, 255, 255, 0.38);\n",
       "  --xr-border-color: #1F1F1F;\n",
       "  --xr-disabled-color: #515151;\n",
       "  --xr-background-color: #111111;\n",
       "  --xr-background-color-row-even: #111111;\n",
       "  --xr-background-color-row-odd: #313131;\n",
       "}\n",
       "\n",
       ".xr-wrap {\n",
       "  display: block !important;\n",
       "  min-width: 300px;\n",
       "  max-width: 700px;\n",
       "}\n",
       "\n",
       ".xr-text-repr-fallback {\n",
       "  /* fallback to plain text repr when CSS is not injected (untrusted notebook) */\n",
       "  display: none;\n",
       "}\n",
       "\n",
       ".xr-header {\n",
       "  padding-top: 6px;\n",
       "  padding-bottom: 6px;\n",
       "  margin-bottom: 4px;\n",
       "  border-bottom: solid 1px var(--xr-border-color);\n",
       "}\n",
       "\n",
       ".xr-header > div,\n",
       ".xr-header > ul {\n",
       "  display: inline;\n",
       "  margin-top: 0;\n",
       "  margin-bottom: 0;\n",
       "}\n",
       "\n",
       ".xr-obj-type,\n",
       ".xr-array-name {\n",
       "  margin-left: 2px;\n",
       "  margin-right: 10px;\n",
       "}\n",
       "\n",
       ".xr-obj-type {\n",
       "  color: var(--xr-font-color2);\n",
       "}\n",
       "\n",
       ".xr-sections {\n",
       "  padding-left: 0 !important;\n",
       "  display: grid;\n",
       "  grid-template-columns: 150px auto auto 1fr 20px 20px;\n",
       "}\n",
       "\n",
       ".xr-section-item {\n",
       "  display: contents;\n",
       "}\n",
       "\n",
       ".xr-section-item input {\n",
       "  display: none;\n",
       "}\n",
       "\n",
       ".xr-section-item input + label {\n",
       "  color: var(--xr-disabled-color);\n",
       "}\n",
       "\n",
       ".xr-section-item input:enabled + label {\n",
       "  cursor: pointer;\n",
       "  color: var(--xr-font-color2);\n",
       "}\n",
       "\n",
       ".xr-section-item input:enabled + label:hover {\n",
       "  color: var(--xr-font-color0);\n",
       "}\n",
       "\n",
       ".xr-section-summary {\n",
       "  grid-column: 1;\n",
       "  color: var(--xr-font-color2);\n",
       "  font-weight: 500;\n",
       "}\n",
       "\n",
       ".xr-section-summary > span {\n",
       "  display: inline-block;\n",
       "  padding-left: 0.5em;\n",
       "}\n",
       "\n",
       ".xr-section-summary-in:disabled + label {\n",
       "  color: var(--xr-font-color2);\n",
       "}\n",
       "\n",
       ".xr-section-summary-in + label:before {\n",
       "  display: inline-block;\n",
       "  content: '►';\n",
       "  font-size: 11px;\n",
       "  width: 15px;\n",
       "  text-align: center;\n",
       "}\n",
       "\n",
       ".xr-section-summary-in:disabled + label:before {\n",
       "  color: var(--xr-disabled-color);\n",
       "}\n",
       "\n",
       ".xr-section-summary-in:checked + label:before {\n",
       "  content: '▼';\n",
       "}\n",
       "\n",
       ".xr-section-summary-in:checked + label > span {\n",
       "  display: none;\n",
       "}\n",
       "\n",
       ".xr-section-summary,\n",
       ".xr-section-inline-details {\n",
       "  padding-top: 4px;\n",
       "  padding-bottom: 4px;\n",
       "}\n",
       "\n",
       ".xr-section-inline-details {\n",
       "  grid-column: 2 / -1;\n",
       "}\n",
       "\n",
       ".xr-section-details {\n",
       "  display: none;\n",
       "  grid-column: 1 / -1;\n",
       "  margin-bottom: 5px;\n",
       "}\n",
       "\n",
       ".xr-section-summary-in:checked ~ .xr-section-details {\n",
       "  display: contents;\n",
       "}\n",
       "\n",
       ".xr-array-wrap {\n",
       "  grid-column: 1 / -1;\n",
       "  display: grid;\n",
       "  grid-template-columns: 20px auto;\n",
       "}\n",
       "\n",
       ".xr-array-wrap > label {\n",
       "  grid-column: 1;\n",
       "  vertical-align: top;\n",
       "}\n",
       "\n",
       ".xr-preview {\n",
       "  color: var(--xr-font-color3);\n",
       "}\n",
       "\n",
       ".xr-array-preview,\n",
       ".xr-array-data {\n",
       "  padding: 0 5px !important;\n",
       "  grid-column: 2;\n",
       "}\n",
       "\n",
       ".xr-array-data,\n",
       ".xr-array-in:checked ~ .xr-array-preview {\n",
       "  display: none;\n",
       "}\n",
       "\n",
       ".xr-array-in:checked ~ .xr-array-data,\n",
       ".xr-array-preview {\n",
       "  display: inline-block;\n",
       "}\n",
       "\n",
       ".xr-dim-list {\n",
       "  display: inline-block !important;\n",
       "  list-style: none;\n",
       "  padding: 0 !important;\n",
       "  margin: 0;\n",
       "}\n",
       "\n",
       ".xr-dim-list li {\n",
       "  display: inline-block;\n",
       "  padding: 0;\n",
       "  margin: 0;\n",
       "}\n",
       "\n",
       ".xr-dim-list:before {\n",
       "  content: '(';\n",
       "}\n",
       "\n",
       ".xr-dim-list:after {\n",
       "  content: ')';\n",
       "}\n",
       "\n",
       ".xr-dim-list li:not(:last-child):after {\n",
       "  content: ',';\n",
       "  padding-right: 5px;\n",
       "}\n",
       "\n",
       ".xr-has-index {\n",
       "  font-weight: bold;\n",
       "}\n",
       "\n",
       ".xr-var-list,\n",
       ".xr-var-item {\n",
       "  display: contents;\n",
       "}\n",
       "\n",
       ".xr-var-item > div,\n",
       ".xr-var-item label,\n",
       ".xr-var-item > .xr-var-name span {\n",
       "  background-color: var(--xr-background-color-row-even);\n",
       "  margin-bottom: 0;\n",
       "}\n",
       "\n",
       ".xr-var-item > .xr-var-name:hover span {\n",
       "  padding-right: 5px;\n",
       "}\n",
       "\n",
       ".xr-var-list > li:nth-child(odd) > div,\n",
       ".xr-var-list > li:nth-child(odd) > label,\n",
       ".xr-var-list > li:nth-child(odd) > .xr-var-name span {\n",
       "  background-color: var(--xr-background-color-row-odd);\n",
       "}\n",
       "\n",
       ".xr-var-name {\n",
       "  grid-column: 1;\n",
       "}\n",
       "\n",
       ".xr-var-dims {\n",
       "  grid-column: 2;\n",
       "}\n",
       "\n",
       ".xr-var-dtype {\n",
       "  grid-column: 3;\n",
       "  text-align: right;\n",
       "  color: var(--xr-font-color2);\n",
       "}\n",
       "\n",
       ".xr-var-preview {\n",
       "  grid-column: 4;\n",
       "}\n",
       "\n",
       ".xr-index-preview {\n",
       "  grid-column: 2 / 5;\n",
       "  color: var(--xr-font-color2);\n",
       "}\n",
       "\n",
       ".xr-var-name,\n",
       ".xr-var-dims,\n",
       ".xr-var-dtype,\n",
       ".xr-preview,\n",
       ".xr-attrs dt {\n",
       "  white-space: nowrap;\n",
       "  overflow: hidden;\n",
       "  text-overflow: ellipsis;\n",
       "  padding-right: 10px;\n",
       "}\n",
       "\n",
       ".xr-var-name:hover,\n",
       ".xr-var-dims:hover,\n",
       ".xr-var-dtype:hover,\n",
       ".xr-attrs dt:hover {\n",
       "  overflow: visible;\n",
       "  width: auto;\n",
       "  z-index: 1;\n",
       "}\n",
       "\n",
       ".xr-var-attrs,\n",
       ".xr-var-data,\n",
       ".xr-index-data {\n",
       "  display: none;\n",
       "  background-color: var(--xr-background-color) !important;\n",
       "  padding-bottom: 5px !important;\n",
       "}\n",
       "\n",
       ".xr-var-attrs-in:checked ~ .xr-var-attrs,\n",
       ".xr-var-data-in:checked ~ .xr-var-data,\n",
       ".xr-index-data-in:checked ~ .xr-index-data {\n",
       "  display: block;\n",
       "}\n",
       "\n",
       ".xr-var-data > table {\n",
       "  float: right;\n",
       "}\n",
       "\n",
       ".xr-var-name span,\n",
       ".xr-var-data,\n",
       ".xr-index-name div,\n",
       ".xr-index-data,\n",
       ".xr-attrs {\n",
       "  padding-left: 25px !important;\n",
       "}\n",
       "\n",
       ".xr-attrs,\n",
       ".xr-var-attrs,\n",
       ".xr-var-data,\n",
       ".xr-index-data {\n",
       "  grid-column: 1 / -1;\n",
       "}\n",
       "\n",
       "dl.xr-attrs {\n",
       "  padding: 0;\n",
       "  margin: 0;\n",
       "  display: grid;\n",
       "  grid-template-columns: 125px auto;\n",
       "}\n",
       "\n",
       ".xr-attrs dt,\n",
       ".xr-attrs dd {\n",
       "  padding: 0;\n",
       "  margin: 0;\n",
       "  float: left;\n",
       "  padding-right: 10px;\n",
       "  width: auto;\n",
       "}\n",
       "\n",
       ".xr-attrs dt {\n",
       "  font-weight: normal;\n",
       "  grid-column: 1;\n",
       "}\n",
       "\n",
       ".xr-attrs dt:hover span {\n",
       "  display: inline-block;\n",
       "  background: var(--xr-background-color);\n",
       "  padding-right: 10px;\n",
       "}\n",
       "\n",
       ".xr-attrs dd {\n",
       "  grid-column: 2;\n",
       "  white-space: pre-wrap;\n",
       "  word-break: break-all;\n",
       "}\n",
       "\n",
       ".xr-icon-database,\n",
       ".xr-icon-file-text2,\n",
       ".xr-no-icon {\n",
       "  display: inline-block;\n",
       "  vertical-align: middle;\n",
       "  width: 1em;\n",
       "  height: 1.5em !important;\n",
       "  stroke-width: 0;\n",
       "  stroke: currentColor;\n",
       "  fill: currentColor;\n",
       "}\n",
       "</style><pre class='xr-text-repr-fallback'>&lt;xarray.DataArray (band: 1, y: 96, x: 74)&gt;\n",
       "array([[[nan, nan, ..., nan, nan],\n",
       "        [nan, nan, ..., nan, nan],\n",
       "        ...,\n",
       "        [nan, nan, ..., nan, nan],\n",
       "        [nan, nan, ..., nan, nan]]], dtype=float32)\n",
       "Coordinates:\n",
       "  * band         (band) int64 1\n",
       "  * x            (x) float64 1.375e+06 1.375e+06 ... 1.377e+06 1.377e+06\n",
       "  * y            (y) float64 4.881e+05 4.881e+05 ... 4.858e+05 4.858e+05\n",
       "    spatial_ref  int64 0\n",
       "Attributes:\n",
       "    AREA_OR_POINT:  Area</pre><div class='xr-wrap' style='display:none'><div class='xr-header'><div class='xr-obj-type'>xarray.DataArray</div><div class='xr-array-name'></div><ul class='xr-dim-list'><li><span class='xr-has-index'>band</span>: 1</li><li><span class='xr-has-index'>y</span>: 96</li><li><span class='xr-has-index'>x</span>: 74</li></ul></div><ul class='xr-sections'><li class='xr-section-item'><div class='xr-array-wrap'><input id='section-819375db-28dc-4f23-8608-b7b2a25063ef' class='xr-array-in' type='checkbox' checked><label for='section-819375db-28dc-4f23-8608-b7b2a25063ef' title='Show/hide data repr'><svg class='icon xr-icon-database'><use xlink:href='#icon-database'></use></svg></label><div class='xr-array-preview xr-preview'><span>nan nan nan nan nan nan nan nan ... nan nan nan nan nan nan nan nan</span></div><div class='xr-array-data'><pre>array([[[nan, nan, ..., nan, nan],\n",
       "        [nan, nan, ..., nan, nan],\n",
       "        ...,\n",
       "        [nan, nan, ..., nan, nan],\n",
       "        [nan, nan, ..., nan, nan]]], dtype=float32)</pre></div></div></li><li class='xr-section-item'><input id='section-44188832-eec6-4fbe-83fd-41d6f2ce0456' class='xr-section-summary-in' type='checkbox'  checked><label for='section-44188832-eec6-4fbe-83fd-41d6f2ce0456' class='xr-section-summary' >Coordinates: <span>(4)</span></label><div class='xr-section-inline-details'></div><div class='xr-section-details'><ul class='xr-var-list'><li class='xr-var-item'><div class='xr-var-name'><span class='xr-has-index'>band</span></div><div class='xr-var-dims'>(band)</div><div class='xr-var-dtype'>int64</div><div class='xr-var-preview xr-preview'>1</div><input id='attrs-d665186a-d3e4-460b-92bb-1ca451dfcfcd' class='xr-var-attrs-in' type='checkbox' disabled><label for='attrs-d665186a-d3e4-460b-92bb-1ca451dfcfcd' title='Show/Hide attributes'><svg class='icon xr-icon-file-text2'><use xlink:href='#icon-file-text2'></use></svg></label><input id='data-b7086f54-4820-4c78-a5bc-67583506bf1d' class='xr-var-data-in' type='checkbox'><label for='data-b7086f54-4820-4c78-a5bc-67583506bf1d' title='Show/Hide data repr'><svg class='icon xr-icon-database'><use xlink:href='#icon-database'></use></svg></label><div class='xr-var-attrs'><dl class='xr-attrs'></dl></div><div class='xr-var-data'><pre>array([1])</pre></div></li><li class='xr-var-item'><div class='xr-var-name'><span class='xr-has-index'>x</span></div><div class='xr-var-dims'>(x)</div><div class='xr-var-dtype'>float64</div><div class='xr-var-preview xr-preview'>1.375e+06 1.375e+06 ... 1.377e+06</div><input id='attrs-5ddca647-c029-4cef-ace3-87007f687f11' class='xr-var-attrs-in' type='checkbox' disabled><label for='attrs-5ddca647-c029-4cef-ace3-87007f687f11' title='Show/Hide attributes'><svg class='icon xr-icon-file-text2'><use xlink:href='#icon-file-text2'></use></svg></label><input id='data-e6c5af72-1900-400d-b694-9e410c38ce3a' class='xr-var-data-in' type='checkbox'><label for='data-e6c5af72-1900-400d-b694-9e410c38ce3a' title='Show/Hide data repr'><svg class='icon xr-icon-database'><use xlink:href='#icon-database'></use></svg></label><div class='xr-var-attrs'><dl class='xr-attrs'></dl></div><div class='xr-var-data'><pre>array([1375129.259417, 1375154.30938 , 1375179.359343, 1375204.409307,\n",
       "       1375229.45927 , 1375254.509233, 1375279.559196, 1375304.609159,\n",
       "       1375329.659122, 1375354.709086, 1375379.759049, 1375404.809012,\n",
       "       1375429.858975, 1375454.908938, 1375479.958902, 1375505.008865,\n",
       "       1375530.058828, 1375555.108791, 1375580.158754, 1375605.208717,\n",
       "       1375630.258681, 1375655.308644, 1375680.358607, 1375705.40857 ,\n",
       "       1375730.458533, 1375755.508496, 1375780.55846 , 1375805.608423,\n",
       "       1375830.658386, 1375855.708349, 1375880.758312, 1375905.808275,\n",
       "       1375930.858239, 1375955.908202, 1375980.958165, 1376006.008128,\n",
       "       1376031.058091, 1376056.108054, 1376081.158018, 1376106.207981,\n",
       "       1376131.257944, 1376156.307907, 1376181.35787 , 1376206.407833,\n",
       "       1376231.457797, 1376256.50776 , 1376281.557723, 1376306.607686,\n",
       "       1376331.657649, 1376356.707612, 1376381.757576, 1376406.807539,\n",
       "       1376431.857502, 1376456.907465, 1376481.957428, 1376507.007391,\n",
       "       1376532.057355, 1376557.107318, 1376582.157281, 1376607.207244,\n",
       "       1376632.257207, 1376657.30717 , 1376682.357134, 1376707.407097,\n",
       "       1376732.45706 , 1376757.507023, 1376782.556986, 1376807.606949,\n",
       "       1376832.656913, 1376857.706876, 1376882.756839, 1376907.806802,\n",
       "       1376932.856765, 1376957.906728])</pre></div></li><li class='xr-var-item'><div class='xr-var-name'><span class='xr-has-index'>y</span></div><div class='xr-var-dims'>(y)</div><div class='xr-var-dtype'>float64</div><div class='xr-var-preview xr-preview'>4.881e+05 4.881e+05 ... 4.858e+05</div><input id='attrs-2f620423-8745-49a2-84b5-76b63c1b7ee2' class='xr-var-attrs-in' type='checkbox' disabled><label for='attrs-2f620423-8745-49a2-84b5-76b63c1b7ee2' title='Show/Hide attributes'><svg class='icon xr-icon-file-text2'><use xlink:href='#icon-file-text2'></use></svg></label><input id='data-06ff8ec7-50ae-4e6d-8e65-034731683ace' class='xr-var-data-in' type='checkbox'><label for='data-06ff8ec7-50ae-4e6d-8e65-034731683ace' title='Show/Hide data repr'><svg class='icon xr-icon-database'><use xlink:href='#icon-database'></use></svg></label><div class='xr-var-attrs'><dl class='xr-attrs'></dl></div><div class='xr-var-data'><pre>array([488129.963576, 488104.913613, 488079.863649, 488054.813686,\n",
       "       488029.763723, 488004.71376 , 487979.663797, 487954.613833,\n",
       "       487929.56387 , 487904.513907, 487879.463944, 487854.413981,\n",
       "       487829.364018, 487804.314054, 487779.264091, 487754.214128,\n",
       "       487729.164165, 487704.114202, 487679.064239, 487654.014275,\n",
       "       487628.964312, 487603.914349, 487578.864386, 487553.814423,\n",
       "       487528.76446 , 487503.714496, 487478.664533, 487453.61457 ,\n",
       "       487428.564607, 487403.514644, 487378.464681, 487353.414717,\n",
       "       487328.364754, 487303.314791, 487278.264828, 487253.214865,\n",
       "       487228.164902, 487203.114938, 487178.064975, 487153.015012,\n",
       "       487127.965049, 487102.915086, 487077.865123, 487052.815159,\n",
       "       487027.765196, 487002.715233, 486977.66527 , 486952.615307,\n",
       "       486927.565344, 486902.51538 , 486877.465417, 486852.415454,\n",
       "       486827.365491, 486802.315528, 486777.265565, 486752.215601,\n",
       "       486727.165638, 486702.115675, 486677.065712, 486652.015749,\n",
       "       486626.965786, 486601.915822, 486576.865859, 486551.815896,\n",
       "       486526.765933, 486501.71597 , 486476.666007, 486451.616043,\n",
       "       486426.56608 , 486401.516117, 486376.466154, 486351.416191,\n",
       "       486326.366227, 486301.316264, 486276.266301, 486251.216338,\n",
       "       486226.166375, 486201.116412, 486176.066448, 486151.016485,\n",
       "       486125.966522, 486100.916559, 486075.866596, 486050.816633,\n",
       "       486025.766669, 486000.716706, 485975.666743, 485950.61678 ,\n",
       "       485925.566817, 485900.516854, 485875.46689 , 485850.416927,\n",
       "       485825.366964, 485800.317001, 485775.267038, 485750.217075])</pre></div></li><li class='xr-var-item'><div class='xr-var-name'><span>spatial_ref</span></div><div class='xr-var-dims'>()</div><div class='xr-var-dtype'>int64</div><div class='xr-var-preview xr-preview'>0</div><input id='attrs-85607dd3-db89-4916-a97d-6617ac16adec' class='xr-var-attrs-in' type='checkbox' ><label for='attrs-85607dd3-db89-4916-a97d-6617ac16adec' title='Show/Hide attributes'><svg class='icon xr-icon-file-text2'><use xlink:href='#icon-file-text2'></use></svg></label><input id='data-c6fc86a6-143c-4b52-827f-1ce7c6c8d3ac' class='xr-var-data-in' type='checkbox'><label for='data-c6fc86a6-143c-4b52-827f-1ce7c6c8d3ac' title='Show/Hide data repr'><svg class='icon xr-icon-database'><use xlink:href='#icon-database'></use></svg></label><div class='xr-var-attrs'><dl class='xr-attrs'><dt><span>crs_wkt :</span></dt><dd>PROJCS[&quot;NAD83 / BC Albers&quot;,GEOGCS[&quot;NAD83&quot;,DATUM[&quot;North_American_Datum_1983&quot;,SPHEROID[&quot;GRS 1980&quot;,6378137,298.257222101,AUTHORITY[&quot;EPSG&quot;,&quot;7019&quot;]],AUTHORITY[&quot;EPSG&quot;,&quot;6269&quot;]],PRIMEM[&quot;Greenwich&quot;,0,AUTHORITY[&quot;EPSG&quot;,&quot;8901&quot;]],UNIT[&quot;degree&quot;,0.0174532925199433,AUTHORITY[&quot;EPSG&quot;,&quot;9122&quot;]],AUTHORITY[&quot;EPSG&quot;,&quot;4269&quot;]],PROJECTION[&quot;Albers_Conic_Equal_Area&quot;],PARAMETER[&quot;latitude_of_center&quot;,45],PARAMETER[&quot;longitude_of_center&quot;,-126],PARAMETER[&quot;standard_parallel_1&quot;,50],PARAMETER[&quot;standard_parallel_2&quot;,58.5],PARAMETER[&quot;false_easting&quot;,1000000],PARAMETER[&quot;false_northing&quot;,0],UNIT[&quot;metre&quot;,1,AUTHORITY[&quot;EPSG&quot;,&quot;9001&quot;]],AXIS[&quot;Easting&quot;,EAST],AXIS[&quot;Northing&quot;,NORTH],AUTHORITY[&quot;EPSG&quot;,&quot;3005&quot;]]</dd><dt><span>semi_major_axis :</span></dt><dd>6378137.0</dd><dt><span>semi_minor_axis :</span></dt><dd>6356752.314140356</dd><dt><span>inverse_flattening :</span></dt><dd>298.257222101</dd><dt><span>reference_ellipsoid_name :</span></dt><dd>GRS 1980</dd><dt><span>longitude_of_prime_meridian :</span></dt><dd>0.0</dd><dt><span>prime_meridian_name :</span></dt><dd>Greenwich</dd><dt><span>geographic_crs_name :</span></dt><dd>NAD83</dd><dt><span>horizontal_datum_name :</span></dt><dd>North American Datum 1983</dd><dt><span>projected_crs_name :</span></dt><dd>NAD83 / BC Albers</dd><dt><span>grid_mapping_name :</span></dt><dd>albers_conical_equal_area</dd><dt><span>standard_parallel :</span></dt><dd>(50.0, 58.5)</dd><dt><span>latitude_of_projection_origin :</span></dt><dd>45.0</dd><dt><span>longitude_of_central_meridian :</span></dt><dd>-126.0</dd><dt><span>false_easting :</span></dt><dd>1000000.0</dd><dt><span>false_northing :</span></dt><dd>0.0</dd><dt><span>spatial_ref :</span></dt><dd>PROJCS[&quot;NAD83 / BC Albers&quot;,GEOGCS[&quot;NAD83&quot;,DATUM[&quot;North_American_Datum_1983&quot;,SPHEROID[&quot;GRS 1980&quot;,6378137,298.257222101,AUTHORITY[&quot;EPSG&quot;,&quot;7019&quot;]],AUTHORITY[&quot;EPSG&quot;,&quot;6269&quot;]],PRIMEM[&quot;Greenwich&quot;,0,AUTHORITY[&quot;EPSG&quot;,&quot;8901&quot;]],UNIT[&quot;degree&quot;,0.0174532925199433,AUTHORITY[&quot;EPSG&quot;,&quot;9122&quot;]],AUTHORITY[&quot;EPSG&quot;,&quot;4269&quot;]],PROJECTION[&quot;Albers_Conic_Equal_Area&quot;],PARAMETER[&quot;latitude_of_center&quot;,45],PARAMETER[&quot;longitude_of_center&quot;,-126],PARAMETER[&quot;standard_parallel_1&quot;,50],PARAMETER[&quot;standard_parallel_2&quot;,58.5],PARAMETER[&quot;false_easting&quot;,1000000],PARAMETER[&quot;false_northing&quot;,0],UNIT[&quot;metre&quot;,1,AUTHORITY[&quot;EPSG&quot;,&quot;9001&quot;]],AXIS[&quot;Easting&quot;,EAST],AXIS[&quot;Northing&quot;,NORTH],AUTHORITY[&quot;EPSG&quot;,&quot;3005&quot;]]</dd><dt><span>GeoTransform :</span></dt><dd>1375116.7344355453 25.049963169397685 0.0 488142.48855726974 0.0 -25.049963169394687</dd></dl></div><div class='xr-var-data'><pre>array(0)</pre></div></li></ul></div></li><li class='xr-section-item'><input id='section-6e81f11c-e146-4970-bdb9-2b1fc21822ec' class='xr-section-summary-in' type='checkbox'  ><label for='section-6e81f11c-e146-4970-bdb9-2b1fc21822ec' class='xr-section-summary' >Indexes: <span>(3)</span></label><div class='xr-section-inline-details'></div><div class='xr-section-details'><ul class='xr-var-list'><li class='xr-var-item'><div class='xr-index-name'><div>band</div></div><div class='xr-index-preview'>PandasIndex</div><div></div><input id='index-5f98016e-ab8f-4612-84d0-e8c21300ccba' class='xr-index-data-in' type='checkbox'/><label for='index-5f98016e-ab8f-4612-84d0-e8c21300ccba' title='Show/Hide index repr'><svg class='icon xr-icon-database'><use xlink:href='#icon-database'></use></svg></label><div class='xr-index-data'><pre>PandasIndex(Int64Index([1], dtype=&#x27;int64&#x27;, name=&#x27;band&#x27;))</pre></div></li><li class='xr-var-item'><div class='xr-index-name'><div>x</div></div><div class='xr-index-preview'>PandasIndex</div><div></div><input id='index-2a49e458-4b2e-456a-8eb6-ca0fb0ad71a9' class='xr-index-data-in' type='checkbox'/><label for='index-2a49e458-4b2e-456a-8eb6-ca0fb0ad71a9' title='Show/Hide index repr'><svg class='icon xr-icon-database'><use xlink:href='#icon-database'></use></svg></label><div class='xr-index-data'><pre>PandasIndex(Float64Index([  1375129.25941713, 1375154.3093802994, 1375179.3593434687,\n",
       "              1375204.4093066382, 1375229.4592698074,  1375254.509232977,\n",
       "              1375279.5591961462, 1375304.6091593157, 1375329.6591224852,\n",
       "              1375354.7090856545,  1375379.759048824, 1375404.8090119932,\n",
       "              1375429.8589751627,  1375454.908938332, 1375479.9589015015,\n",
       "               1375505.008864671, 1375530.0588278403, 1375555.1087910098,\n",
       "               1375580.158754179, 1375605.2087173485, 1375630.2586805178,\n",
       "              1375655.3086436873, 1375680.3586068565,  1375705.408570026,\n",
       "              1375730.4585331955, 1375755.5084963648, 1375780.5584595343,\n",
       "              1375805.6084227036,  1375830.658385873, 1375855.7083490423,\n",
       "              1375880.7583122118, 1375905.8082753813, 1375930.8582385506,\n",
       "                1375955.90820172, 1375980.9581648894, 1376006.0081280589,\n",
       "              1376031.0580912281, 1376056.1080543976, 1376081.1580175671,\n",
       "              1376106.2079807364,  1376131.257943906, 1376156.3079070752,\n",
       "              1376181.3578702447,  1376206.407833414, 1376231.4577965834,\n",
       "               1376256.507759753, 1376281.5577229222, 1376306.6076860917,\n",
       "               1376331.657649261, 1376356.7076124304, 1376381.7575755997,\n",
       "              1376406.8075387692, 1376431.8575019387,  1376456.907465108,\n",
       "              1376481.9574282775, 1376507.0073914467, 1376532.0573546162,\n",
       "              1376557.1073177855,  1376582.157280955, 1376607.2072441243,\n",
       "              1376632.2572072938, 1376657.3071704633, 1376682.3571336325,\n",
       "               1376707.407096802, 1376732.4570599713, 1376757.5070231408,\n",
       "                1376782.55698631, 1376807.6069494796,  1376832.656912649,\n",
       "              1376857.7068758183, 1376882.7568389878,  1376907.806802157,\n",
       "              1376932.8567653266, 1376957.9067284958],\n",
       "             dtype=&#x27;float64&#x27;, name=&#x27;x&#x27;))</pre></div></li><li class='xr-var-item'><div class='xr-index-name'><div>y</div></div><div class='xr-index-preview'>PandasIndex</div><div></div><input id='index-0a1f787c-61b5-43e8-b08f-0b9b54075e60' class='xr-index-data-in' type='checkbox'/><label for='index-0a1f787c-61b5-43e8-b08f-0b9b54075e60' title='Show/Hide index repr'><svg class='icon xr-icon-database'><use xlink:href='#icon-database'></use></svg></label><div class='xr-index-data'><pre>PandasIndex(Float64Index([488129.96357568505, 488104.91361251567,  488079.8636493463,\n",
       "              488054.81368617684, 488029.76372300746,  488004.7137598381,\n",
       "               487979.6637966687, 487954.61383349926,  487929.5638703299,\n",
       "               487904.5139071605,  487879.4639439911, 487854.41398082173,\n",
       "               487829.3640176523,  487804.3140544829,  487779.2640913135,\n",
       "              487754.21412814414,  487729.1641649747,  487704.1142018053,\n",
       "              487679.06423863594, 487654.01427546656,  487628.9643122972,\n",
       "              487603.91434912774, 487578.86438595835,   487553.814422789,\n",
       "               487528.7644596196,  487503.7144964502, 487478.66453328077,\n",
       "               487453.6145701114,   487428.564606942,  487403.5146437726,\n",
       "               487378.4646806032,  487353.4147174338,  487328.3647542644,\n",
       "              487303.31479109504, 487278.26482792565,  487253.2148647562,\n",
       "              487228.16490158683, 487203.11493841745, 487178.06497524807,\n",
       "               487153.0150120786, 487127.96504890925, 487102.91508573986,\n",
       "               487077.8651225705,  487052.8151594011, 487027.76519623166,\n",
       "               487002.7152330623,  486977.6652698929,  486952.6153067235,\n",
       "              486927.56534355413,  486902.5153803847,  486877.4654172153,\n",
       "               486852.4154540459, 486827.36549087655,  486802.3155277071,\n",
       "               486777.2655645377, 486752.21560136834, 486727.16563819896,\n",
       "               486702.1156750296, 486677.06571186014, 486652.01574869076,\n",
       "               486626.9657855214,   486601.915822352, 486576.86585918255,\n",
       "              486551.81589601317,  486526.7659328438,  486501.7159696744,\n",
       "                486476.666006505,  486451.6160433356,  486426.5660801662,\n",
       "               486401.5161169968, 486376.46615382744,   486351.416190658,\n",
       "               486326.3662274886, 486301.31626431923, 486276.26630114985,\n",
       "              486251.21633798047, 486226.16637481103, 486201.11641164165,\n",
       "              486176.06644847227,  486151.0164853029, 486125.96652213344,\n",
       "              486100.91655896406,  486075.8665957947,  486050.8166326253,\n",
       "               486025.7666694559,  486000.7167062865,  485975.6667431171,\n",
       "               485950.6167799477, 485925.56681677833, 485900.51685360895,\n",
       "               485875.4668904395,  485850.4169272701, 485825.36696410074,\n",
       "              485800.31700093136,  485775.2670377619, 485750.21707459254],\n",
       "             dtype=&#x27;float64&#x27;, name=&#x27;y&#x27;))</pre></div></li></ul></div></li><li class='xr-section-item'><input id='section-dc9e634c-8bfa-46d4-ad82-25f3461b0818' class='xr-section-summary-in' type='checkbox'  checked><label for='section-dc9e634c-8bfa-46d4-ad82-25f3461b0818' class='xr-section-summary' >Attributes: <span>(1)</span></label><div class='xr-section-inline-details'></div><div class='xr-section-details'><dl class='xr-attrs'><dt><span>AREA_OR_POINT :</span></dt><dd>Area</dd></dl></div></li></ul></div></div>"
      ],
      "text/plain": [
       "<xarray.DataArray (band: 1, y: 96, x: 74)>\n",
       "array([[[nan, nan, ..., nan, nan],\n",
       "        [nan, nan, ..., nan, nan],\n",
       "        ...,\n",
       "        [nan, nan, ..., nan, nan],\n",
       "        [nan, nan, ..., nan, nan]]], dtype=float32)\n",
       "Coordinates:\n",
       "  * band         (band) int64 1\n",
       "  * x            (x) float64 1.375e+06 1.375e+06 ... 1.377e+06 1.377e+06\n",
       "  * y            (y) float64 4.881e+05 4.881e+05 ... 4.858e+05 4.858e+05\n",
       "    spatial_ref  int64 0\n",
       "Attributes:\n",
       "    AREA_OR_POINT:  Area"
      ]
     },
     "execution_count": 33,
     "metadata": {},
     "output_type": "execute_result"
    }
   ],
   "source": [
    "raster"
   ]
  },
  {
   "cell_type": "markdown",
   "id": "bf4183cf-ba61-478c-9fea-af8375dc551a",
   "metadata": {},
   "source": [
    "### dimensions, coordinates, etc.\n",
    "\n",
    "This raster has shape (1, 4560, 3841).  \n",
    "\n",
    "The first dimension (band) is the elevation data (z dimension)\n",
    "\n",
    "The second and third values are the y and x dimensions, respectively.\n",
    "\n",
    "The longitude (x direction) values are in the range 1.3M metres (for EPSG:3005), this corresponds to the x-dimension (east-west) which is 3841 wide.\n",
    "\n",
    "The latitude (y direction) values are in the range 500K metres, this corresponds to the y-direction (north-south) which is 4560 high.\n",
    "\n",
    "\n",
    "When we determine the slope and aspect, we can convolve a 3x3 matrix representing the cells surrounding each target cell:\n",
    "\n",
    "|  |  |  |\n",
    "|---|---|---|\n",
    "| $Z_{-+}$ | $Z_{0+}$ | $Z_{++}$ |\n",
    "| $Z_{-0}$ | $Z_{00}$ | $Z_{+0}$ |\n",
    "| $Z_{--}$ | $Z_{0-}$ | $Z_{+-}$ |\n",
    "\n",
    "Which is represented in matrix form as\n",
    "\n",
    "|  |  |  |\n",
    "|---|---|---|\n",
    "| $Z_{0,0}$ | $Z_{0,1}$ | $Z_{0,2}$ |\n",
    "| $Z_{1,0}$ | $Z_{1,1}$ | $Z_{1,2}$ |\n",
    "| $Z_{2,0}$ | $Z_{2,1}$ | $Z_{2,2}$ |\n",
    "\n",
    "\n"
   ]
  },
  {
   "cell_type": "markdown",
   "id": "554130bf-b886-48e8-a7a6-7261cd94711e",
   "metadata": {},
   "source": [
    "We want to take the weighted average of three horizontal (dx) and vertical (dy) slopes, where the middle slope is given twice the weight of the outer slopes (sum to 1, so outer edges get 1/4 and middle gets 1/2).  We divide by $2dx$ because dx is the raster resolution, or the grid cell dimension in the x direction, and we are subtracting elevations at twice this distance.\n",
    "\n",
    "$$dz_x = \\frac{\\frac{1}{4}\\left( Z_{0,2} - Z_{0,0} \\right) + \\frac{1}{2}\\left( Z_{1,2} - Z_{1,0} \\right) + \\frac{1}{4}\\left( Z_{2,2} - Z_{2,0} \\right)}{2 dx}$$\n",
    "\n"
   ]
  },
  {
   "cell_type": "markdown",
   "id": "0feb026a-c306-411c-a582-8f5772ca7114",
   "metadata": {},
   "source": [
    "Which can be rewritten as:\n",
    "\n",
    "$$dz_x = \\frac{1}{8dx} \\left[ \\left(Z_{0,2} - Z_{0,0} \\right) + 2\\left( Z_{1,2} - Z_{1,0} \\right) + \\left( Z_{2,2} - Z_{2,0} \\right) \\right]$$\n",
    "\n",
    "And similarly in the y direction:\n",
    "$$dz_y = \\frac{1}{8dy} \\left[ \\left(Z_{0,2} - Z_{2,2} \\right) + 2\\left( Z_{0,1} - Z_{2,1} \\right) + \\left( Z_{0,0} - Z_{2,0} \\right) \\right]$$"
   ]
  },
  {
   "cell_type": "markdown",
   "id": "9098153c-8967-4320-93e9-c6a9c9abb91a",
   "metadata": {},
   "source": [
    "These can be written generally as computational expressions, for all matrix cells$i, j$:\n",
    "\n",
    "`dz_x = ((Z[i-1,j+1] - Z[i-1,j-1]) + 2 * (Z[i,j+1] - Z[i,j-1]) + (Z[i+1,j-1] - Z[i+1,j+1])) / (8*dx)`\n",
    "\n",
    "and\n",
    "\n",
    "`dz_y = ((Z[i-1,j+1] - Z[i+1,j+1]) + 2 * (Z[i-1,j] - Z[i+1,j]) + (Z[i-1,j-1] - Z[i+1,j-1])) / (8*dy)`\n"
   ]
  },
  {
   "cell_type": "markdown",
   "id": "de409e0f-1fea-4e7e-b693-91231fa2dff9",
   "metadata": {},
   "source": [
    "See this post about performance of convolutions:\n",
    "\n",
    "https://laurentperrinet.github.io/sciblog/posts/2017-09-20-the-fastest-2d-convolution-in-the-world.html\n",
    "\n",
    "tl;dr, use numpy"
   ]
  },
  {
   "cell_type": "code",
   "execution_count": 34,
   "id": "a4c0a574-16d3-4345-85d3-a98fb8f749bf",
   "metadata": {},
   "outputs": [],
   "source": [
    "from numpy.fft import fft2, ifft2"
   ]
  },
  {
   "cell_type": "code",
   "execution_count": 35,
   "id": "1cb79fbe-943a-45ac-9263-b4eb79815888",
   "metadata": {},
   "outputs": [],
   "source": [
    "def calculate_slope(Z, dx=1, dy=1):\n",
    "    \"\"\"\n",
    "    Z is a 3x3 matrix of elevation values, and we want to calculate the \n",
    "    weighted slope in both x and y directions, then convert it to slope in degrees.\n",
    "    We then want to average all slope values for the raster\n",
    "    \"\"\"\n",
    "    shape = Z.shape\n",
    "    iy, ix = shape\n",
    "    print(shape)\n",
    "    S = np.empty_like(Z)\n",
    "    for i in range(1, ix-1):\n",
    "        for j in range(1, iy-1):\n",
    "            # print(i, j, Z[i, j])\n",
    "            dz_x = ((Z[i-1,j+1] - Z[i-1,j-1]) + 2 * (Z[i,j+1] - Z[i,j-1]) + (Z[i+1,j-1] - Z[i+1,j+1])) / (8*dx)\n",
    "            dz_y = ((Z[i-1,j+1] - Z[i+1,j+1]) + 2 * (Z[i-1,j] - Z[i+1,j]) + (Z[i-1,j-1] - Z[i+1,j-1])) / (8*dy)\n",
    "            max_slope_pct = np.sqrt(np.power(dz_x, 2) + np.power(dz_y, 2))\n",
    "            max_slope_deg = (180 / np.pi) * np.arctan(max_slope_pct)\n",
    "            # print(dz_x, dz_y, max_slope_pct, max_slope_deg)\n",
    "            S[i,j] = max_slope_deg\n",
    "    return np.mean(S)"
   ]
  },
  {
   "cell_type": "code",
   "execution_count": 36,
   "id": "b0e9098b-fe08-4fed-8721-2b63af7be9e3",
   "metadata": {},
   "outputs": [],
   "source": [
    "A = np.array([[1, 2, 3],[1, 2, 3],[1, 2, 3]], dtype=float)\n",
    "# print(A, A[1, 2]) # note here 1 is -ve y direction and 2 is -ve x-direction in lat-lon\n"
   ]
  },
  {
   "cell_type": "code",
   "execution_count": 37,
   "id": "a373cae1-8dfd-4fef-94f5-420986233cde",
   "metadata": {},
   "outputs": [
    {
     "name": "stdout",
     "output_type": "stream",
     "text": [
      "(3, 3)\n"
     ]
    }
   ],
   "source": [
    "max_slope = calculate_slope(A)"
   ]
  },
  {
   "cell_type": "markdown",
   "id": "7d99b93b-ec2f-444e-bceb-1578fbba597b",
   "metadata": {},
   "source": [
    "Convolve a matrix by a 3x3 matrix \"operator\" to get the slope.\n",
    "\n",
    "This is used in edge detection to determine the rate of change of color value, \n",
    "which is analogous to calculating slope of a surface."
   ]
  },
  {
   "cell_type": "code",
   "execution_count": 38,
   "id": "011810d4-326c-43f1-9b65-f8bd822b1f1c",
   "metadata": {},
   "outputs": [],
   "source": [
    "dem = np.array([\n",
    "    [1, 2, 3, 4, 5, 6, 7, 8, 9, 10],\n",
    "    [1, 2, 3, 4, 5, 6, 7, 8, 9, 10],\n",
    "    [1, 2, 3, 4, 5, 6, 7, 8, 9, 10],\n",
    "    [1, 2, 3, 4, 5, 6, 7, 8, 9, 10],\n",
    "    [1, 2, 3, 4, 5, 6, 7, 8, 9, 10],\n",
    "    [1, 2, 3, 4, 5, 6, 7, 8, 9, 10],\n",
    "    [1, 2, 3, 4, 5, 6, 7, 8, 9, 10],\n",
    "    [1, 2, 3, 4, 5, 6, 7, 8, 9, 10],\n",
    "    [1, 2, 3, 4, 5, 6, 7, 8, 9, 10],\n",
    "    # [1, 2, 3, 4, 5, 6, 7, 8, 9, 10],    \n",
    "])"
   ]
  },
  {
   "cell_type": "code",
   "execution_count": 39,
   "id": "1cc9e824-726e-457e-86c8-58cbf9915619",
   "metadata": {},
   "outputs": [
    {
     "name": "stdout",
     "output_type": "stream",
     "text": [
      "25.049963169397685 25.049963169394687\n"
     ]
    }
   ],
   "source": [
    "dy, dx = (abs(r) for r in raster.rio.resolution())\n",
    "print(dy, dx)"
   ]
  },
  {
   "cell_type": "code",
   "execution_count": 40,
   "id": "79dec9aa-430f-4f41-b73d-84c9fde20727",
   "metadata": {},
   "outputs": [],
   "source": [
    "xf = np.array([[1, 0, -1], \n",
    "      [2, 0, -2], \n",
    "      [1, 0, -1]], dtype=float) / (8.0 * dx)\n",
    "yf = np.array([[-1, -2, -1], \n",
    "      [0, 0, 0], \n",
    "      [1, 2, 1]], dtype=float) / (8.0 * dy)"
   ]
  },
  {
   "cell_type": "code",
   "execution_count": 41,
   "id": "113f0637-5b80-4091-b20a-6d1b9a3e2f78",
   "metadata": {},
   "outputs": [],
   "source": [
    "from scipy.signal import convolve2d"
   ]
  },
  {
   "cell_type": "code",
   "execution_count": 42,
   "id": "0479017d-0628-44fc-9c55-207fc6086834",
   "metadata": {},
   "outputs": [
    {
     "data": {
      "text/plain": [
       "(96, 74)"
      ]
     },
     "execution_count": 42,
     "metadata": {},
     "output_type": "execute_result"
    }
   ],
   "source": [
    "raster.data[0].shape"
   ]
  },
  {
   "cell_type": "code",
   "execution_count": 43,
   "id": "e5c34969-6284-42b5-a8e2-3cee678b197a",
   "metadata": {},
   "outputs": [
    {
     "data": {
      "text/plain": [
       "array([], shape=(0, 0), dtype=float32)"
      ]
     },
     "execution_count": 43,
     "metadata": {},
     "output_type": "execute_result"
    }
   ],
   "source": [
    "np.count_nonzero(~np.isnan(raster.data[0]))\n",
    "raster.data[0][1000:1050, 1800:1850]"
   ]
  },
  {
   "cell_type": "code",
   "execution_count": 44,
   "id": "59e4dd0a-1d8e-4c25-90c1-d339bb56a5f8",
   "metadata": {
    "tags": []
   },
   "outputs": [
    {
     "name": "stdout",
     "output_type": "stream",
     "text": [
      "time to convolve: 0.0006\n"
     ]
    }
   ],
   "source": [
    "t0 = time.time()\n",
    "ddx = convolve2d(raster.data[0], xf, mode='same', boundary='symm')\n",
    "ddy = convolve2d(raster.data[0], yf, mode='same', boundary='symm')\n",
    "t1 = time.time()\n",
    "print(f'time to convolve: {t1-t0:.4f}')"
   ]
  },
  {
   "cell_type": "code",
   "execution_count": 45,
   "id": "202080fe-4a4a-406f-97e6-0d54929efc71",
   "metadata": {},
   "outputs": [],
   "source": [
    "S = np.sqrt(np.add(np.power(ddx, 2.0), np.power(ddy, 2.0)))\n",
    "mean_S = np.nanmean(S)\n",
    "mean_S_deg = (180/np.pi) * np.arctan(mean_S)"
   ]
  },
  {
   "cell_type": "code",
   "execution_count": 46,
   "id": "3e5176fa-ae00-456b-b6ce-40f013e58359",
   "metadata": {},
   "outputs": [
    {
     "data": {
      "text/plain": [
       "15.011253447885618"
      ]
     },
     "execution_count": 46,
     "metadata": {},
     "output_type": "execute_result"
    }
   ],
   "source": [
    "mean_S_deg"
   ]
  },
  {
   "cell_type": "code",
   "execution_count": 47,
   "id": "e687fc14-b45d-485a-8e61-390410725670",
   "metadata": {},
   "outputs": [],
   "source": [
    "# calculate circular mean aspect\n",
    "def calculate_circular_mean_aspect(A):\n",
    "    \"\"\"\n",
    "    Calculate the circular mean of slope directions given \n",
    "    a matrix of slopes. Return circular mean aspect in degrees.\n",
    "    \"\"\"\n",
    "    n_angles = np.count_nonzero(~np.isnan(aspect))\n",
    "    sine_mean = np.divide(np.nansum(np.sin(np.radians(aspect))), n_angles)\n",
    "    cosine_mean = np.divide(np.nansum(np.cos(np.radians(aspect))), n_angles)\n",
    "    vector_mean = np.arctan2(sine_mean, cosine_mean)\n",
    "    aspect_degrees = np.degrees(vector_mean)\n",
    "    if aspect_degrees + 180 > 360:\n",
    "        return aspect_degrees - 180\n",
    "    else:\n",
    "        return aspect_degrees + 180"
   ]
  },
  {
   "cell_type": "code",
   "execution_count": 48,
   "id": "e6e8ebfc-a7df-4b87-8fff-a971e58e6f43",
   "metadata": {},
   "outputs": [
    {
     "data": {
      "text/plain": [
       "225.73155876045337"
      ]
     },
     "execution_count": 48,
     "metadata": {},
     "output_type": "execute_result"
    }
   ],
   "source": [
    "aspect = (180 / np.pi)* np.arctan2(ddy, ddx)\n",
    "mean_aspect_deg = calculate_circular_mean_aspect(aspect)\n",
    "mean_aspect_deg"
   ]
  },
  {
   "cell_type": "code",
   "execution_count": 49,
   "id": "52a5ac56-273d-4d78-86af-fd38e6f31ba3",
   "metadata": {},
   "outputs": [
    {
     "data": {
      "text/plain": [
       "array([[    nan, 1583.87, 1583.7 , 1583.37, 1581.94],\n",
       "       [    nan, 1563.85, 1563.47, 1561.78, 1560.95],\n",
       "       [    nan, 1561.02, 1545.51, 1545.78, 1545.22],\n",
       "       [1537.82, 1541.22, 1545.51, 1545.78, 1545.22],\n",
       "       [1515.31, 1518.37, 1522.23, 1523.37, 1524.48],\n",
       "       [1489.03, 1492.72, 1498.32, 1502.16, 1501.55],\n",
       "       [1483.86, 1486.26, 1489.05, 1501.69, 1508.26],\n",
       "       [    nan,     nan, 1492.45, 1506.12, 1531.38],\n",
       "       [    nan,     nan,     nan,     nan,     nan],\n",
       "       [    nan,     nan,     nan,     nan,     nan]], dtype=float32)"
      ]
     },
     "execution_count": 49,
     "metadata": {},
     "output_type": "execute_result"
    }
   ],
   "source": [
    "# This is the outlet of the basin, look at the polygon to verify\n",
    "raster.data[0][75:85, 0:5].round(2)"
   ]
  },
  {
   "cell_type": "code",
   "execution_count": 50,
   "id": "6e80b6ae-d781-43a5-9449-75a428b639ee",
   "metadata": {},
   "outputs": [
    {
     "name": "stdout",
     "output_type": "stream",
     "text": [
      "(96, 74) (96, 74)\n"
     ]
    }
   ],
   "source": [
    "print(raster.data[0].shape, S.shape)"
   ]
  },
  {
   "cell_type": "code",
   "execution_count": 51,
   "id": "00e0ad9b-805d-41dc-ae94-39a2089f5de7",
   "metadata": {},
   "outputs": [
    {
     "data": {
      "text/plain": [
       "array([[ nan,  nan, 0.84, 0.83, 0.79],\n",
       "       [ nan,  nan, 0.69, 0.75, 0.74],\n",
       "       [ nan,  nan, 0.4 , 0.33, 0.45],\n",
       "       [ nan,  nan, 0.56, 0.44, 0.48],\n",
       "       [0.97, 0.98, 0.94, 0.89, 0.76],\n",
       "       [0.63, 0.66, 0.63, 0.48, 0.31],\n",
       "       [ nan,  nan,  nan, 0.43, 0.62],\n",
       "       [ nan,  nan,  nan,  nan,  nan],\n",
       "       [ nan,  nan,  nan,  nan,  nan],\n",
       "       [ nan,  nan,  nan,  nan,  nan]])"
      ]
     },
     "execution_count": 51,
     "metadata": {},
     "output_type": "execute_result"
    }
   ],
   "source": [
    "# There's a big jump from 1515 to 1489, this is roughly a \n",
    "# 26m drop over 25m run (100% slope)\n",
    "S[75:85, 0:5].round(2)"
   ]
  },
  {
   "cell_type": "code",
   "execution_count": 52,
   "id": "abc1daf4-2e10-4483-9b9f-56e7d5104f9f",
   "metadata": {},
   "outputs": [
    {
     "data": {
      "text/plain": [
       "array([[  nan,   nan,  92. ,  93.4,  88.5],\n",
       "       [  nan,   nan,  98.3,  92.7,  86.3],\n",
       "       [  nan,   nan, 110.6,  92.9, 100.5],\n",
       "       [  nan,   nan,  90.6,  89.1, 116.2],\n",
       "       [ 86.1,  80.9,  82.7,  87.6,  97.2],\n",
       "       [ 84.2,  76.6,  71.9,  73.2,  68.4],\n",
       "       [  nan,   nan,   nan, -21.6, -53.6],\n",
       "       [  nan,   nan,   nan,   nan,   nan],\n",
       "       [  nan,   nan,   nan,   nan,   nan],\n",
       "       [  nan,   nan,   nan,   nan,   nan]])"
      ]
     },
     "execution_count": 52,
     "metadata": {},
     "output_type": "execute_result"
    }
   ],
   "source": [
    "# The slope corresponding to the big drop is mostly north to south\n",
    "# but there's an east-west component as well\n",
    "# the convention appears to indicate the uphill direction,\n",
    "# counter-clockwise from due East\n",
    "aspect[75:85, 0:5].round(1)"
   ]
  },
  {
   "cell_type": "code",
   "execution_count": 53,
   "id": "7db67e48-3b0b-4593-8f46-c0e62109a2a9",
   "metadata": {},
   "outputs": [],
   "source": [
    "# so now we just need to rotate by 180 degrees\n",
    "# to give it the same sense as interpreted by \"basin orientation\"\n",
    "# aspect = np.where(aspect + 180 > 360, aspect - 180, aspect + 180)\n",
    "# aspect[75:85, 0:5].round(1)"
   ]
  },
  {
   "cell_type": "code",
   "execution_count": 54,
   "id": "60a77302-0009-4b0d-8db8-b941115283dd",
   "metadata": {},
   "outputs": [
    {
     "data": {
      "text/plain": [
       "225.73155876045337"
      ]
     },
     "execution_count": 54,
     "metadata": {},
     "output_type": "execute_result"
    }
   ],
   "source": [
    "circ_mean = calculate_circular_mean_aspect(aspect)\n",
    "circ_mean"
   ]
  },
  {
   "cell_type": "code",
   "execution_count": 60,
   "id": "2fa48010-4bcb-4f15-8c9e-53a05e7be3b4",
   "metadata": {},
   "outputs": [
    {
     "data": {
      "text/plain": [
       "0"
      ]
     },
     "execution_count": 60,
     "metadata": {},
     "output_type": "execute_result"
    }
   ],
   "source": [
    "out_path = fpath.replace('.tif', '_slope.tif')\n",
    "rp = '/home/danbot/Documents/code/22/basin_generator/references/'\n",
    "wbt.aspect(\n",
    "    fpath, \n",
    "    os.path.join(rp, out_path), \n",
    "    zfactor=None, \n",
    "    # callback=default_callback\n",
    ")"
   ]
  },
  {
   "cell_type": "code",
   "execution_count": 61,
   "id": "107a822c-419c-4794-901e-73d2aab3d38e",
   "metadata": {},
   "outputs": [
    {
     "ename": "RasterioIOError",
     "evalue": "08P_USGS_3DEP_3005_res1_01463_slope.tif: No such file or directory",
     "output_type": "error",
     "traceback": [
      "\u001b[0;31m---------------------------------------------------------------------------\u001b[0m",
      "\u001b[0;31mKeyError\u001b[0m                                  Traceback (most recent call last)",
      "File \u001b[0;32m~/Documents/code/data_analysis/lib/python3.10/site-packages/xarray/backends/file_manager.py:209\u001b[0m, in \u001b[0;36mCachingFileManager._acquire_with_cache_info\u001b[0;34m(self, needs_lock)\u001b[0m\n\u001b[1;32m    208\u001b[0m \u001b[38;5;28;01mtry\u001b[39;00m:\n\u001b[0;32m--> 209\u001b[0m     file \u001b[38;5;241m=\u001b[39m \u001b[38;5;28;43mself\u001b[39;49m\u001b[38;5;241;43m.\u001b[39;49m\u001b[43m_cache\u001b[49m\u001b[43m[\u001b[49m\u001b[38;5;28;43mself\u001b[39;49m\u001b[38;5;241;43m.\u001b[39;49m\u001b[43m_key\u001b[49m\u001b[43m]\u001b[49m\n\u001b[1;32m    210\u001b[0m \u001b[38;5;28;01mexcept\u001b[39;00m \u001b[38;5;167;01mKeyError\u001b[39;00m:\n",
      "File \u001b[0;32m~/Documents/code/data_analysis/lib/python3.10/site-packages/xarray/backends/lru_cache.py:55\u001b[0m, in \u001b[0;36mLRUCache.__getitem__\u001b[0;34m(self, key)\u001b[0m\n\u001b[1;32m     54\u001b[0m \u001b[38;5;28;01mwith\u001b[39;00m \u001b[38;5;28mself\u001b[39m\u001b[38;5;241m.\u001b[39m_lock:\n\u001b[0;32m---> 55\u001b[0m     value \u001b[38;5;241m=\u001b[39m \u001b[38;5;28;43mself\u001b[39;49m\u001b[38;5;241;43m.\u001b[39;49m\u001b[43m_cache\u001b[49m\u001b[43m[\u001b[49m\u001b[43mkey\u001b[49m\u001b[43m]\u001b[49m\n\u001b[1;32m     56\u001b[0m     \u001b[38;5;28mself\u001b[39m\u001b[38;5;241m.\u001b[39m_cache\u001b[38;5;241m.\u001b[39mmove_to_end(key)\n",
      "\u001b[0;31mKeyError\u001b[0m: [<function open at 0x7f838b66e5f0>, ('08P_USGS_3DEP_3005_res1_01463_slope.tif',), 'r', (('sharing', False),), 'ecb664ca-7547-49ff-9fb8-560ac4752443']",
      "\nDuring handling of the above exception, another exception occurred:\n",
      "\u001b[0;31mCPLE_OpenFailedError\u001b[0m                      Traceback (most recent call last)",
      "File \u001b[0;32mrasterio/_base.pyx:302\u001b[0m, in \u001b[0;36mrasterio._base.DatasetBase.__init__\u001b[0;34m()\u001b[0m\n",
      "File \u001b[0;32mrasterio/_base.pyx:213\u001b[0m, in \u001b[0;36mrasterio._base.open_dataset\u001b[0;34m()\u001b[0m\n",
      "File \u001b[0;32mrasterio/_err.pyx:217\u001b[0m, in \u001b[0;36mrasterio._err.exc_wrap_pointer\u001b[0;34m()\u001b[0m\n",
      "\u001b[0;31mCPLE_OpenFailedError\u001b[0m: 08P_USGS_3DEP_3005_res1_01463_slope.tif: No such file or directory",
      "\nDuring handling of the above exception, another exception occurred:\n",
      "\u001b[0;31mRasterioIOError\u001b[0m                           Traceback (most recent call last)",
      "Cell \u001b[0;32mIn [61], line 1\u001b[0m\n\u001b[0;32m----> 1\u001b[0m ss, _, _ \u001b[38;5;241m=\u001b[39m \u001b[43mretrieve_raster\u001b[49m\u001b[43m(\u001b[49m\u001b[43mout_path\u001b[49m\u001b[43m)\u001b[49m\n",
      "Cell \u001b[0;32mIn [31], line 4\u001b[0m, in \u001b[0;36mretrieve_raster\u001b[0;34m(fpath)\u001b[0m\n\u001b[1;32m      1\u001b[0m \u001b[38;5;28;01mdef\u001b[39;00m \u001b[38;5;21mretrieve_raster\u001b[39m(fpath):\n\u001b[1;32m      2\u001b[0m     \n\u001b[1;32m      3\u001b[0m     \u001b[38;5;66;03m# fpath = '08P_USGS_3DEP_3005_res1_01710.tif'\u001b[39;00m\n\u001b[0;32m----> 4\u001b[0m     raster \u001b[38;5;241m=\u001b[39m \u001b[43mrxr\u001b[49m\u001b[38;5;241;43m.\u001b[39;49m\u001b[43mopen_rasterio\u001b[49m\u001b[43m(\u001b[49m\u001b[43mfpath\u001b[49m\u001b[43m,\u001b[49m\u001b[43m \u001b[49m\u001b[43mmask_and_scale\u001b[49m\u001b[38;5;241;43m=\u001b[39;49m\u001b[38;5;28;43;01mTrue\u001b[39;49;00m\u001b[43m)\u001b[49m\n\u001b[1;32m      5\u001b[0m     crs \u001b[38;5;241m=\u001b[39m raster\u001b[38;5;241m.\u001b[39mrio\u001b[38;5;241m.\u001b[39mcrs\n\u001b[1;32m      6\u001b[0m     affine \u001b[38;5;241m=\u001b[39m raster\u001b[38;5;241m.\u001b[39mrio\u001b[38;5;241m.\u001b[39mtransform(recalc\u001b[38;5;241m=\u001b[39m\u001b[38;5;28;01mFalse\u001b[39;00m)\n",
      "File \u001b[0;32m~/Documents/code/data_analysis/lib/python3.10/site-packages/rioxarray/_io.py:916\u001b[0m, in \u001b[0;36mopen_rasterio\u001b[0;34m(filename, parse_coordinates, chunks, cache, lock, masked, mask_and_scale, variable, group, default_name, decode_times, decode_timedelta, **open_kwargs)\u001b[0m\n\u001b[1;32m    914\u001b[0m     \u001b[38;5;28;01melse\u001b[39;00m:\n\u001b[1;32m    915\u001b[0m         manager \u001b[38;5;241m=\u001b[39m URIManager(rasterio\u001b[38;5;241m.\u001b[39mopen, filename, mode\u001b[38;5;241m=\u001b[39m\u001b[38;5;124m\"\u001b[39m\u001b[38;5;124mr\u001b[39m\u001b[38;5;124m\"\u001b[39m, kwargs\u001b[38;5;241m=\u001b[39mopen_kwargs)\n\u001b[0;32m--> 916\u001b[0m     riods \u001b[38;5;241m=\u001b[39m \u001b[43mmanager\u001b[49m\u001b[38;5;241;43m.\u001b[39;49m\u001b[43macquire\u001b[49m\u001b[43m(\u001b[49m\u001b[43m)\u001b[49m\n\u001b[1;32m    917\u001b[0m     captured_warnings \u001b[38;5;241m=\u001b[39m rio_warnings\u001b[38;5;241m.\u001b[39mcopy()\n\u001b[1;32m    919\u001b[0m \u001b[38;5;66;03m# raise the NotGeoreferencedWarning if applicable\u001b[39;00m\n",
      "File \u001b[0;32m~/Documents/code/data_analysis/lib/python3.10/site-packages/xarray/backends/file_manager.py:191\u001b[0m, in \u001b[0;36mCachingFileManager.acquire\u001b[0;34m(self, needs_lock)\u001b[0m\n\u001b[1;32m    176\u001b[0m \u001b[38;5;28;01mdef\u001b[39;00m \u001b[38;5;21macquire\u001b[39m(\u001b[38;5;28mself\u001b[39m, needs_lock\u001b[38;5;241m=\u001b[39m\u001b[38;5;28;01mTrue\u001b[39;00m):\n\u001b[1;32m    177\u001b[0m     \u001b[38;5;124;03m\"\"\"Acquire a file object from the manager.\u001b[39;00m\n\u001b[1;32m    178\u001b[0m \n\u001b[1;32m    179\u001b[0m \u001b[38;5;124;03m    A new file is only opened if it has expired from the\u001b[39;00m\n\u001b[0;32m   (...)\u001b[0m\n\u001b[1;32m    189\u001b[0m \u001b[38;5;124;03m        An open file object, as returned by ``opener(*args, **kwargs)``.\u001b[39;00m\n\u001b[1;32m    190\u001b[0m \u001b[38;5;124;03m    \"\"\"\u001b[39;00m\n\u001b[0;32m--> 191\u001b[0m     file, _ \u001b[38;5;241m=\u001b[39m \u001b[38;5;28;43mself\u001b[39;49m\u001b[38;5;241;43m.\u001b[39;49m\u001b[43m_acquire_with_cache_info\u001b[49m\u001b[43m(\u001b[49m\u001b[43mneeds_lock\u001b[49m\u001b[43m)\u001b[49m\n\u001b[1;32m    192\u001b[0m     \u001b[38;5;28;01mreturn\u001b[39;00m file\n",
      "File \u001b[0;32m~/Documents/code/data_analysis/lib/python3.10/site-packages/xarray/backends/file_manager.py:215\u001b[0m, in \u001b[0;36mCachingFileManager._acquire_with_cache_info\u001b[0;34m(self, needs_lock)\u001b[0m\n\u001b[1;32m    213\u001b[0m     kwargs \u001b[38;5;241m=\u001b[39m kwargs\u001b[38;5;241m.\u001b[39mcopy()\n\u001b[1;32m    214\u001b[0m     kwargs[\u001b[38;5;124m\"\u001b[39m\u001b[38;5;124mmode\u001b[39m\u001b[38;5;124m\"\u001b[39m] \u001b[38;5;241m=\u001b[39m \u001b[38;5;28mself\u001b[39m\u001b[38;5;241m.\u001b[39m_mode\n\u001b[0;32m--> 215\u001b[0m file \u001b[38;5;241m=\u001b[39m \u001b[38;5;28;43mself\u001b[39;49m\u001b[38;5;241;43m.\u001b[39;49m\u001b[43m_opener\u001b[49m\u001b[43m(\u001b[49m\u001b[38;5;241;43m*\u001b[39;49m\u001b[38;5;28;43mself\u001b[39;49m\u001b[38;5;241;43m.\u001b[39;49m\u001b[43m_args\u001b[49m\u001b[43m,\u001b[49m\u001b[43m \u001b[49m\u001b[38;5;241;43m*\u001b[39;49m\u001b[38;5;241;43m*\u001b[39;49m\u001b[43mkwargs\u001b[49m\u001b[43m)\u001b[49m\n\u001b[1;32m    216\u001b[0m \u001b[38;5;28;01mif\u001b[39;00m \u001b[38;5;28mself\u001b[39m\u001b[38;5;241m.\u001b[39m_mode \u001b[38;5;241m==\u001b[39m \u001b[38;5;124m\"\u001b[39m\u001b[38;5;124mw\u001b[39m\u001b[38;5;124m\"\u001b[39m:\n\u001b[1;32m    217\u001b[0m     \u001b[38;5;66;03m# ensure file doesn't get overridden when opened again\u001b[39;00m\n\u001b[1;32m    218\u001b[0m     \u001b[38;5;28mself\u001b[39m\u001b[38;5;241m.\u001b[39m_mode \u001b[38;5;241m=\u001b[39m \u001b[38;5;124m\"\u001b[39m\u001b[38;5;124ma\u001b[39m\u001b[38;5;124m\"\u001b[39m\n",
      "File \u001b[0;32m~/Documents/code/data_analysis/lib/python3.10/site-packages/rasterio/env.py:444\u001b[0m, in \u001b[0;36mensure_env_with_credentials.<locals>.wrapper\u001b[0;34m(*args, **kwds)\u001b[0m\n\u001b[1;32m    441\u001b[0m     session \u001b[38;5;241m=\u001b[39m DummySession()\n\u001b[1;32m    443\u001b[0m \u001b[38;5;28;01mwith\u001b[39;00m env_ctor(session\u001b[38;5;241m=\u001b[39msession):\n\u001b[0;32m--> 444\u001b[0m     \u001b[38;5;28;01mreturn\u001b[39;00m \u001b[43mf\u001b[49m\u001b[43m(\u001b[49m\u001b[38;5;241;43m*\u001b[39;49m\u001b[43margs\u001b[49m\u001b[43m,\u001b[49m\u001b[43m \u001b[49m\u001b[38;5;241;43m*\u001b[39;49m\u001b[38;5;241;43m*\u001b[39;49m\u001b[43mkwds\u001b[49m\u001b[43m)\u001b[49m\n",
      "File \u001b[0;32m~/Documents/code/data_analysis/lib/python3.10/site-packages/rasterio/__init__.py:304\u001b[0m, in \u001b[0;36mopen\u001b[0;34m(fp, mode, driver, width, height, count, crs, transform, dtype, nodata, sharing, **kwargs)\u001b[0m\n\u001b[1;32m    301\u001b[0m path \u001b[38;5;241m=\u001b[39m _parse_path(raw_dataset_path)\n\u001b[1;32m    303\u001b[0m \u001b[38;5;28;01mif\u001b[39;00m mode \u001b[38;5;241m==\u001b[39m \u001b[38;5;124m\"\u001b[39m\u001b[38;5;124mr\u001b[39m\u001b[38;5;124m\"\u001b[39m:\n\u001b[0;32m--> 304\u001b[0m     dataset \u001b[38;5;241m=\u001b[39m \u001b[43mDatasetReader\u001b[49m\u001b[43m(\u001b[49m\u001b[43mpath\u001b[49m\u001b[43m,\u001b[49m\u001b[43m \u001b[49m\u001b[43mdriver\u001b[49m\u001b[38;5;241;43m=\u001b[39;49m\u001b[43mdriver\u001b[49m\u001b[43m,\u001b[49m\u001b[43m \u001b[49m\u001b[43msharing\u001b[49m\u001b[38;5;241;43m=\u001b[39;49m\u001b[43msharing\u001b[49m\u001b[43m,\u001b[49m\u001b[43m \u001b[49m\u001b[38;5;241;43m*\u001b[39;49m\u001b[38;5;241;43m*\u001b[39;49m\u001b[43mkwargs\u001b[49m\u001b[43m)\u001b[49m\n\u001b[1;32m    305\u001b[0m \u001b[38;5;28;01melif\u001b[39;00m mode \u001b[38;5;241m==\u001b[39m \u001b[38;5;124m\"\u001b[39m\u001b[38;5;124mr+\u001b[39m\u001b[38;5;124m\"\u001b[39m:\n\u001b[1;32m    306\u001b[0m     dataset \u001b[38;5;241m=\u001b[39m get_writer_for_path(path, driver\u001b[38;5;241m=\u001b[39mdriver)(\n\u001b[1;32m    307\u001b[0m         path, mode, driver\u001b[38;5;241m=\u001b[39mdriver, sharing\u001b[38;5;241m=\u001b[39msharing, \u001b[38;5;241m*\u001b[39m\u001b[38;5;241m*\u001b[39mkwargs\n\u001b[1;32m    308\u001b[0m     )\n",
      "File \u001b[0;32mrasterio/_base.pyx:304\u001b[0m, in \u001b[0;36mrasterio._base.DatasetBase.__init__\u001b[0;34m()\u001b[0m\n",
      "\u001b[0;31mRasterioIOError\u001b[0m: 08P_USGS_3DEP_3005_res1_01463_slope.tif: No such file or directory"
     ]
    }
   ],
   "source": [
    "ss, _, _ = retrieve_raster(out_path)"
   ]
  },
  {
   "cell_type": "code",
   "execution_count": null,
   "id": "2acacb5f-2d93-4a3d-84b3-eb93af9a017f",
   "metadata": {},
   "outputs": [],
   "source": []
  },
  {
   "cell_type": "code",
   "execution_count": null,
   "id": "162354ec-ba36-44ec-8429-360942d36b48",
   "metadata": {},
   "outputs": [],
   "source": []
  }
 ],
 "metadata": {
  "kernelspec": {
   "display_name": "Python 3 (ipykernel)",
   "language": "python",
   "name": "python3"
  },
  "language_info": {
   "codemirror_mode": {
    "name": "ipython",
    "version": 3
   },
   "file_extension": ".py",
   "mimetype": "text/x-python",
   "name": "python",
   "nbconvert_exporter": "python",
   "pygments_lexer": "ipython3",
   "version": "3.10.6"
  }
 },
 "nbformat": 4,
 "nbformat_minor": 5
}
